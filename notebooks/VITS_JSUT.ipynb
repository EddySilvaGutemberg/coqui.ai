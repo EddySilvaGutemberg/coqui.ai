{
 "cells": [
  {
   "cell_type": "markdown",
   "id": "152d7c66-5c77-419f-949d-64c76eee88ab",
   "metadata": {},
   "source": [
    "# 訓練済みVITSモデルによる推論"
   ]
  },
  {
   "cell_type": "code",
   "execution_count": null,
   "id": "ce802a89-48eb-46b6-8a6a-e466f7e051f7",
   "metadata": {},
   "outputs": [],
   "source": [
    "import numpy as np\n",
    "import os\n",
    "import torch\n",
    "from TTS.tts.models.vits import Vits, VitsAudioConfig\n",
    "from TTS.tts.configs.shared_configs import CharactersConfig\n",
    "from TTS.tts.configs.vits_config import VitsConfig\n",
    "from TTS.utils.audio import AudioProcessor\n",
    "from TTS.tts.utils.text.tokenizer import TTSTokenizer"
   ]
  },
  {
   "cell_type": "markdown",
   "id": "f1797b6b-5e56-4c41-b4b4-de0aec171b36",
   "metadata": {},
   "source": [
    "## モデルのロード"
   ]
  },
  {
   "cell_type": "code",
   "execution_count": null,
   "id": "fe5cde9f-688e-4bb6-994b-5c8c23af78f8",
   "metadata": {},
   "outputs": [],
   "source": [
    "audio_config = VitsAudioConfig(\n",
    "    sample_rate=22050, win_length=1024, hop_length=256, num_mels=80, mel_fmin=0, mel_fmax=None\n",
    ")"
   ]
  },
  {
   "cell_type": "code",
   "execution_count": null,
   "id": "211e5de0-9834-4729-a385-6170028238d8",
   "metadata": {},
   "outputs": [],
   "source": [
    "characters = CharactersConfig(\n",
    "    characters_class=\"TTS.tts.models.vits.VitsCharacters\",\n",
    "    pad=\"<PAD>\",\n",
    "    characters=[\n",
    "        \"pau\",\n",
    "        \"I\",\n",
    "        \"N\",\n",
    "        \"U\",\n",
    "        \"a\",\n",
    "        \"b\",\n",
    "        \"by\",\n",
    "        \"ch\",\n",
    "        \"cl\",\n",
    "        \"d\",\n",
    "        \"dy\",\n",
    "        \"e\",\n",
    "        \"f\",\n",
    "        \"g\",\n",
    "        \"gy\",\n",
    "        \"h\",\n",
    "        \"hy\",\n",
    "        \"i\",\n",
    "        \"j\",\n",
    "        \"k\",\n",
    "        \"ky\",\n",
    "        \"m\",\n",
    "        \"my\",\n",
    "        \"n\",\n",
    "        \"ny\",\n",
    "        \"o\",\n",
    "        \"p\",\n",
    "        \"py\",\n",
    "        \"r\",\n",
    "        \"ry\",\n",
    "        \"s\",\n",
    "        \"sh\",\n",
    "        \"t\",\n",
    "        \"ts\",\n",
    "        \"u\",\n",
    "        \"v\",\n",
    "        \"w\",\n",
    "        \"y\",\n",
    "        \"z\",\n",
    "    ],\n",
    "    punctuations=\".?!\",\n",
    ")"
   ]
  },
  {
   "cell_type": "code",
   "execution_count": null,
   "id": "c6f07bad-5cb8-4233-95f4-57491ad81431",
   "metadata": {},
   "outputs": [],
   "source": [
    "config = VitsConfig(\n",
    "    run_name=\"vits_jsut\",\n",
    "    text_cleaner=\"japanese_cleaners\",\n",
    "    use_phonemes=True,\n",
    "    add_blank=True,\n",
    "    phoneme_language=\"ja-jp\",\n",
    "    phonemizer=\"pyopenjtalk\",\n",
    "    characters=characters,\n",
    ")"
   ]
  },
  {
   "cell_type": "code",
   "execution_count": null,
   "id": "f5b998b0-4b61-4d1d-8f66-aacf2a890cbe",
   "metadata": {},
   "outputs": [],
   "source": [
    "ap = AudioProcessor.init_from_config(config)"
   ]
  },
  {
   "cell_type": "code",
   "execution_count": null,
   "id": "a64bc27c-4321-40bf-b8a1-e773a86fffd2",
   "metadata": {},
   "outputs": [],
   "source": [
    "config.audio"
   ]
  },
  {
   "cell_type": "code",
   "execution_count": null,
   "id": "245de41e-49f5-4297-83e4-1b6ada4b30ae",
   "metadata": {},
   "outputs": [],
   "source": [
    "tokenizer, config = TTSTokenizer.init_from_config(config)"
   ]
  },
  {
   "cell_type": "code",
   "execution_count": null,
   "id": "a673d6fe-9c52-47e0-b87b-0fc3f2563ceb",
   "metadata": {},
   "outputs": [],
   "source": [
    "device = torch.device(\"cuda:0\")\n",
    "model = Vits(config, ap, tokenizer, speaker_manager=None).to(device)"
   ]
  },
  {
   "cell_type": "code",
   "execution_count": null,
   "id": "b02bd9e9-a841-4f97-a6e5-33d21c292a79",
   "metadata": {},
   "outputs": [],
   "source": [
    "checkpoint_path = \"../recipes/jsut/vits_tts/vits_jsut-November-22-2022_03+14PM-0705a45a/checkpoint_230000.pth\"\n",
    "model.load_checkpoint(config, checkpoint_path, eval=True)"
   ]
  },
  {
   "cell_type": "markdown",
   "id": "d6a50f3a-b405-470b-829c-af6eccd6ba21",
   "metadata": {},
   "source": [
    "## テキストからの推論"
   ]
  },
  {
   "cell_type": "code",
   "execution_count": null,
   "id": "63b5f8f8-3d17-4600-98ff-fc5e4e39a589",
   "metadata": {},
   "outputs": [],
   "source": [
    "raw_text = \"ごめんなさいね、昨日は娘が突然お世話になったみたいで。\"\n",
    "token_ids = tokenizer.text_to_ids(raw_text)\n",
    "token_ids = torch.Tensor(token_ids).long().to(device)\n",
    "token_ids = token_ids.unsqueeze(0)\n",
    "token_ids"
   ]
  },
  {
   "cell_type": "code",
   "execution_count": null,
   "id": "6aca0b9c-0ede-4914-9843-82f7c8ebd4a1",
   "metadata": {},
   "outputs": [],
   "source": [
    "outputs = model.inference(token_ids)"
   ]
  },
  {
   "cell_type": "code",
   "execution_count": null,
   "id": "429139bf-30da-4e4a-a5e0-0a36c216b321",
   "metadata": {},
   "outputs": [],
   "source": [
    "for k, v in outputs.items():\n",
    "    print(k, v.shape)"
   ]
  },
  {
   "cell_type": "markdown",
   "id": "7cd948f9-e051-4c72-a552-b36964f159eb",
   "metadata": {},
   "source": [
    "## 合成音"
   ]
  },
  {
   "cell_type": "code",
   "execution_count": null,
   "id": "4c3d4da8-55f3-4da1-9cd4-f7086bb2a32b",
   "metadata": {},
   "outputs": [],
   "source": [
    "import matplotlib.pyplot as plt\n",
    "%matplotlib inline\n",
    "from IPython.display import display, Audio"
   ]
  },
  {
   "cell_type": "code",
   "execution_count": null,
   "id": "58233069-686d-4d73-baac-6672054112ae",
   "metadata": {},
   "outputs": [],
   "source": [
    "waveform = outputs[\"model_outputs\"].squeeze().cpu().numpy()\n",
    "waveform.shape"
   ]
  },
  {
   "cell_type": "code",
   "execution_count": null,
   "id": "4d1a38cd-2e3b-420f-9745-87834cc67242",
   "metadata": {},
   "outputs": [],
   "source": [
    "plt.plot(waveform);"
   ]
  },
  {
   "cell_type": "code",
   "execution_count": null,
   "id": "12de0f38-54cb-44d7-b52b-1614130defcd",
   "metadata": {},
   "outputs": [],
   "source": [
    "display(Audio(waveform, rate=config.audio.sample_rate))"
   ]
  },
  {
   "cell_type": "markdown",
   "id": "7c91c8a0-8d1d-4df9-a9d2-2070784016f4",
   "metadata": {},
   "source": [
    "## アラインメントの可視化"
   ]
  },
  {
   "cell_type": "code",
   "execution_count": null,
   "id": "c013673e-5249-438d-b3b7-40f0856e7eec",
   "metadata": {},
   "outputs": [],
   "source": [
    "from TTS.tts.utils.visual import plot_alignment"
   ]
  },
  {
   "cell_type": "code",
   "execution_count": null,
   "id": "2d548099-b0cb-4422-9d5a-6de2556c12f0",
   "metadata": {},
   "outputs": [],
   "source": [
    "alignments = outputs[\"alignments\"]\n",
    "alignments.shape"
   ]
  },
  {
   "cell_type": "code",
   "execution_count": null,
   "id": "21e2b782-017d-487e-9434-852991ad24c9",
   "metadata": {},
   "outputs": [],
   "source": [
    "align_img = alignments[0].data.cpu().numpy().T\n",
    "align_img.shape"
   ]
  },
  {
   "cell_type": "code",
   "execution_count": null,
   "id": "5f64308a-4aca-4d39-b820-5fe9e6eab297",
   "metadata": {},
   "outputs": [],
   "source": [
    "plot_alignment(align_img, output_fig=False)"
   ]
  },
  {
   "cell_type": "markdown",
   "id": "d9ef518d-2ebf-404c-b49a-48175856191f",
   "metadata": {},
   "source": [
    "## 時間長"
   ]
  },
  {
   "cell_type": "code",
   "execution_count": null,
   "id": "4a480424-2087-4697-8c95-5b20b9265b57",
   "metadata": {},
   "outputs": [],
   "source": [
    "token_ids.shape"
   ]
  },
  {
   "cell_type": "code",
   "execution_count": null,
   "id": "9dc122ef-6dbe-4eff-97be-0bf0bd954112",
   "metadata": {},
   "outputs": [],
   "source": [
    "outputs[\"durations\"].shape"
   ]
  },
  {
   "cell_type": "code",
   "execution_count": null,
   "id": "c8c7fa67-52b3-4fc8-8b09-38334d328d9d",
   "metadata": {},
   "outputs": [],
   "source": [
    "outputs[\"durations\"].squeeze()"
   ]
  },
  {
   "cell_type": "code",
   "execution_count": null,
   "id": "2765db52-5952-4340-9396-4572784f96e8",
   "metadata": {},
   "outputs": [],
   "source": [
    "200960 / 256"
   ]
  },
  {
   "cell_type": "code",
   "execution_count": null,
   "id": "6cb54d61-b6ac-4868-8196-6abdff1f471b",
   "metadata": {},
   "outputs": [],
   "source": [
    "# durationsの単位はフレーム\n",
    "# 合計すると音声のフレーム長に一致する\n",
    "outputs[\"durations\"].squeeze().sum()"
   ]
  },
  {
   "cell_type": "code",
   "execution_count": null,
   "id": "a2ae1267-0816-4a82-bbc3-ef4eeb3a1e68",
   "metadata": {},
   "outputs": [],
   "source": [
    "tokens = [tokenizer.characters.id_to_char(x) for x in token_ids[0].cpu().numpy()]\n",
    "len(tokens)"
   ]
  },
  {
   "cell_type": "code",
   "execution_count": null,
   "id": "a6b331aa-ce04-451b-8028-ead982c6c5b4",
   "metadata": {},
   "outputs": [],
   "source": [
    "durations = outputs[\"durations\"].squeeze().cpu().numpy() * config.audio.hop_length\n",
    "len(durations)"
   ]
  },
  {
   "cell_type": "code",
   "execution_count": null,
   "id": "44b11558-713e-43b4-bd5c-e3984757c620",
   "metadata": {},
   "outputs": [],
   "source": [
    "sum(durations)"
   ]
  },
  {
   "cell_type": "code",
   "execution_count": null,
   "id": "81299d8c-cd74-4562-858b-f088172b0cda",
   "metadata": {},
   "outputs": [],
   "source": [
    "positions = list(np.cumsum(durations))"
   ]
  },
  {
   "cell_type": "code",
   "execution_count": null,
   "id": "a1af3bd5-31d0-4e33-877f-b7d5757d388b",
   "metadata": {},
   "outputs": [],
   "source": [
    "len(positions), len(tokens)"
   ]
  },
  {
   "cell_type": "code",
   "execution_count": null,
   "id": "db6478ad-cee8-4220-92f4-d7eb84ea4c55",
   "metadata": {},
   "outputs": [],
   "source": [
    "plt.figure(figsize=(16, 8))\n",
    "plt.plot(waveform)\n",
    "for (i, x), token in zip(enumerate(positions), tokens):\n",
    "    if token == \"<BLNK>\":\n",
    "        token = \"B\"\n",
    "    plt.axvline(x, color=\"r\")\n",
    "    plt.text(x - 250, 0.0, token)"
   ]
  },
  {
   "cell_type": "code",
   "execution_count": null,
   "id": "b9a57050-1af5-4403-9e75-9a2163364db8",
   "metadata": {},
   "outputs": [],
   "source": []
  },
  {
   "cell_type": "code",
   "execution_count": null,
   "id": "0815f89b-a1ef-4a72-b8b7-3c5b18d48cd9",
   "metadata": {},
   "outputs": [],
   "source": []
  }
 ],
 "metadata": {
  "kernelspec": {
   "display_name": "Python 3 (ipykernel)",
   "language": "python",
   "name": "python3"
  },
  "language_info": {
   "codemirror_mode": {
    "name": "ipython",
    "version": 3
   },
   "file_extension": ".py",
   "mimetype": "text/x-python",
   "name": "python",
   "nbconvert_exporter": "python",
   "pygments_lexer": "ipython3",
   "version": "3.10.8"
  },
  "vscode": {
   "interpreter": {
    "hash": "2504cb0e3e4224dfb4bb19413b576a0bc8ab50ac2e8cfa3fbf1f5f00bce6c9fe"
   }
  }
 },
 "nbformat": 4,
 "nbformat_minor": 5
}
