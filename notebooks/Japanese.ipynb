{
 "cells": [
  {
   "cell_type": "code",
   "execution_count": null,
   "id": "2c403735-c3fe-44c5-b37f-a71fef9848ce",
   "metadata": {},
   "outputs": [],
   "source": [
    "from TTS.tts.utils.text.japanese.phonemizer import japanese_text_to_phonemes"
   ]
  },
  {
   "cell_type": "markdown",
   "id": "07119eeb-1b71-4db7-a3ea-e3757dba66a0",
   "metadata": {},
   "source": [
    "## デフォルトのPhonemizer"
   ]
  },
  {
   "cell_type": "code",
   "execution_count": null,
   "id": "12c8c5bf-d943-4902-89c6-4d091b9450b0",
   "metadata": {},
   "outputs": [],
   "source": [
    "text = \"どちらに行きますか？\""
   ]
  },
  {
   "cell_type": "code",
   "execution_count": null,
   "id": "53fc8eff-01fb-44b3-897a-16e44376d5dc",
   "metadata": {},
   "outputs": [],
   "source": [
    "japanese_text_to_phonemes(text)"
   ]
  }
 ],
 "metadata": {
  "kernelspec": {
   "display_name": "venv",
   "language": "python",
   "name": "python3"
  },
  "language_info": {
   "codemirror_mode": {
    "name": "ipython",
    "version": 3
   },
   "file_extension": ".py",
   "mimetype": "text/x-python",
   "name": "python",
   "nbconvert_exporter": "python",
   "pygments_lexer": "ipython3",
   "version": "3.10.8 (main, Nov 16 2022, 09:44:45) [GCC 7.5.0]"
  },
  "vscode": {
   "interpreter": {
    "hash": "2504cb0e3e4224dfb4bb19413b576a0bc8ab50ac2e8cfa3fbf1f5f00bce6c9fe"
   }
  }
 },
 "nbformat": 4,
 "nbformat_minor": 5
}
