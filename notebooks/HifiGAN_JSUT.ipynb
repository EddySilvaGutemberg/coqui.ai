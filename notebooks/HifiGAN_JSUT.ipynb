{
 "cells": [
  {
   "cell_type": "markdown",
   "id": "c6d09b7f-7032-4754-8b97-95b34c96859e",
   "metadata": {},
   "source": [
    "# 訓練済みHifiGANモデルによる推論"
   ]
  },
  {
   "cell_type": "code",
   "execution_count": null,
   "id": "36168903-0071-451f-ab61-59464fd538ad",
   "metadata": {},
   "outputs": [],
   "source": [
    "import torch\n",
    "from TTS.utils.audio import AudioProcessor\n",
    "from TTS.vocoder.configs import HifiganConfig\n",
    "from TTS.vocoder.models.gan import GAN"
   ]
  },
  {
   "cell_type": "markdown",
   "id": "f11e668d-61af-401a-ae90-551450e668d1",
   "metadata": {},
   "source": [
    "## モデルのロード"
   ]
  },
  {
   "cell_type": "code",
   "execution_count": null,
   "id": "45ece266-7d54-45bf-9584-3e2bc66baf0b",
   "metadata": {},
   "outputs": [],
   "source": [
    "config = HifiganConfig(\n",
    "    batch_size=32,\n",
    "    eval_batch_size=16,\n",
    "    num_loader_workers=4,\n",
    "    num_eval_loader_workers=4,\n",
    "    run_eval=True,\n",
    "    test_delay_epochs=5,\n",
    "    epochs=1000,\n",
    "    seq_len=8192,\n",
    "    pad_short=2000,\n",
    "    use_noise_augment=True,\n",
    "    eval_split_size=10,\n",
    "    print_step=25,\n",
    "    print_eval=False,\n",
    "    mixed_precision=False,\n",
    "    lr_gen=1e-4,\n",
    "    lr_disc=1e-4\n",
    ")"
   ]
  },
  {
   "cell_type": "code",
   "execution_count": null,
   "id": "1f9cdb53-996c-4be3-bfb4-c16bdad4c2fd",
   "metadata": {},
   "outputs": [],
   "source": [
    "# init audio processor\n",
    "ap = AudioProcessor(**config.audio.to_dict())"
   ]
  },
  {
   "cell_type": "code",
   "execution_count": null,
   "id": "9794227c-f28f-43cf-94d7-d85efbf4d55f",
   "metadata": {},
   "outputs": [],
   "source": [
    "%ls ../recipes/jsut/hifigan/run-November-17-2022_02+48PM-367d940b/"
   ]
  },
  {
   "cell_type": "code",
   "execution_count": null,
   "id": "abb2d1c2-a199-45e7-bdcb-3be5175ed7f2",
   "metadata": {},
   "outputs": [],
   "source": [
    "device = torch.device(\"cuda:0\")\n",
    "model = GAN(config, ap).to(device)\n",
    "checkpoint_path = \"../recipes/jsut/hifigan/run-November-17-2022_02+48PM-367d940b/checkpoint_50000.pth\"\n",
    "model.load_checkpoint(config, checkpoint_path, eval=True)"
   ]
  },
  {
   "cell_type": "markdown",
   "id": "2de361cf-569d-45f1-8dd8-15530fcfa751",
   "metadata": {},
   "source": [
    "## ボコーダーの推論"
   ]
  },
  {
   "cell_type": "code",
   "execution_count": null,
   "id": "ef964bdf-b751-4dfe-9347-f9e0fad3c6ce",
   "metadata": {},
   "outputs": [],
   "source": [
    "import matplotlib.pyplot as plt\n",
    "from IPython.display import display, Audio\n",
    "%matplotlib inline"
   ]
  },
  {
   "cell_type": "code",
   "execution_count": null,
   "id": "4c0e342e-bbf4-472e-a387-59df34d93cd0",
   "metadata": {},
   "outputs": [],
   "source": [
    "wavpath = \"../recipes/jsut/jsut_ver1.1/voiceactress100/wav/VOICEACTRESS100_001.wav\""
   ]
  },
  {
   "cell_type": "code",
   "execution_count": null,
   "id": "2489787f-0eff-4bcb-9ff3-c22626c420cb",
   "metadata": {},
   "outputs": [],
   "source": [
    "audio = ap.load_wav(wavpath, sr=config.audio.sample_rate)\n",
    "audio.shape"
   ]
  },
  {
   "cell_type": "code",
   "execution_count": null,
   "id": "70874cd5-affe-4c7a-a96c-f8d508a14edf",
   "metadata": {},
   "outputs": [],
   "source": [
    "display(Audio(audio, rate=config.audio.sample_rate))"
   ]
  },
  {
   "cell_type": "code",
   "execution_count": null,
   "id": "87a622f0-70d8-4f27-8e24-ebbaf648fa39",
   "metadata": {},
   "outputs": [],
   "source": [
    "mel = ap.melspectrogram(audio)\n",
    "mel = torch.from_numpy(mel)\n",
    "mel = mel.unsqueeze(0).to(device)\n",
    "mel.shape"
   ]
  },
  {
   "cell_type": "code",
   "execution_count": null,
   "id": "650647d3-910a-4af3-aab1-9742886ffbdf",
   "metadata": {},
   "outputs": [],
   "source": [
    "recon_audio = model.inference(mel)\n",
    "recon_audio = recon_audio.squeeze().cpu().numpy()\n",
    "recon_audio.shape"
   ]
  },
  {
   "cell_type": "code",
   "execution_count": null,
   "id": "91dbd78d-297a-4aac-b6f3-ab34f0fd768c",
   "metadata": {},
   "outputs": [],
   "source": [
    "plt.plot(recon_audio);"
   ]
  },
  {
   "cell_type": "code",
   "execution_count": null,
   "id": "d32fc5df-5588-4324-9456-1778a0c776ba",
   "metadata": {},
   "outputs": [],
   "source": [
    "display(Audio(recon_audio, rate=config.audio.sample_rate))"
   ]
  }
 ],
 "metadata": {
  "kernelspec": {
   "display_name": "Python 3 (ipykernel)",
   "language": "python",
   "name": "python3"
  },
  "language_info": {
   "codemirror_mode": {
    "name": "ipython",
    "version": 3
   },
   "file_extension": ".py",
   "mimetype": "text/x-python",
   "name": "python",
   "nbconvert_exporter": "python",
   "pygments_lexer": "ipython3",
   "version": "3.10.8"
  }
 },
 "nbformat": 4,
 "nbformat_minor": 5
}
