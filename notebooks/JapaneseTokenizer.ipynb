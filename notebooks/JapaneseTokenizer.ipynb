{
 "cells": [
  {
   "cell_type": "code",
   "execution_count": null,
   "id": "e75addc2-c27a-40cc-9e93-6c35dd98aa8c",
   "metadata": {},
   "outputs": [],
   "source": [
    "import os\n",
    "import re\n",
    "from TTS.tts.configs.shared_configs import CharactersConfig\n",
    "from TTS.tts.configs.vits_config import VitsConfig\n",
    "from TTS.tts.utils.text.tokenizer import TTSTokenizer\n",
    "import pyopenjtalk"
   ]
  },
  {
   "cell_type": "markdown",
   "id": "676edc18",
   "metadata": {},
   "source": [
    "## PyOpenJTalk_Phonemizer\n",
    "\n",
    "- `TTSTokenizer.text_to_ids()` の処理"
   ]
  },
  {
   "cell_type": "code",
   "execution_count": null,
   "id": "c82300ac",
   "metadata": {},
   "outputs": [],
   "source": [
    "text = \"これは、音声合成のテストです。\"\n",
    "ph = pyopenjtalk.g2p(text, kana=False)\n",
    "ph = ph.split(\" \")\n",
    "print(ph)"
   ]
  },
  {
   "cell_type": "code",
   "execution_count": null,
   "id": "b79ac195",
   "metadata": {},
   "outputs": [],
   "source": [
    "characters = CharactersConfig(\n",
    "    characters_class=\"TTS.tts.models.vits.VitsCharacters\",\n",
    "    pad=\"<PAD>\",\n",
    "    characters=[\n",
    "        \"pau\",\n",
    "        \"I\",\n",
    "        \"N\",\n",
    "        \"U\",\n",
    "        \"a\",\n",
    "        \"b\",\n",
    "        \"by\",\n",
    "        \"ch\",\n",
    "        \"cl\",\n",
    "        \"d\",\n",
    "        \"dy\",\n",
    "        \"e\",\n",
    "        \"f\",\n",
    "        \"g\",\n",
    "        \"gy\",\n",
    "        \"h\",\n",
    "        \"hy\",\n",
    "        \"i\",\n",
    "        \"j\",\n",
    "        \"k\",\n",
    "        \"ky\",\n",
    "        \"m\",\n",
    "        \"my\",\n",
    "        \"n\",\n",
    "        \"ny\",\n",
    "        \"o\",\n",
    "        \"p\",\n",
    "        \"py\",\n",
    "        \"r\",\n",
    "        \"ry\",\n",
    "        \"s\",\n",
    "        \"sh\",\n",
    "        \"t\",\n",
    "        \"ts\",\n",
    "        \"u\",\n",
    "        \"v\",\n",
    "        \"w\",\n",
    "        \"y\",\n",
    "        \"z\",\n",
    "    ],\n",
    "    punctuations=\".?!\",\n",
    ")"
   ]
  },
  {
   "cell_type": "code",
   "execution_count": null,
   "id": "d05ccb1e-2711-44d2-9cf7-2214b6fd445e",
   "metadata": {},
   "outputs": [],
   "source": [
    "config = VitsConfig(\n",
    "    run_name=\"vits_jsut\",\n",
    "    text_cleaner=\"japanese_cleaners\",\n",
    "    use_phonemes=True,\n",
    "    add_blank=True,\n",
    "    phoneme_language=\"ja-jp\",\n",
    "    phonemizer=\"pyopenjtalk\",\n",
    "    characters=characters,\n",
    ")"
   ]
  },
  {
   "cell_type": "code",
   "execution_count": null,
   "id": "d24647e4-694f-456e-9470-38d46602a87f",
   "metadata": {},
   "outputs": [],
   "source": [
    "tokenizer, config = TTSTokenizer.init_from_config(config)"
   ]
  },
  {
   "cell_type": "code",
   "execution_count": null,
   "id": "411e94ed-9590-4ec4-ad26-cda15b0b41ce",
   "metadata": {},
   "outputs": [],
   "source": [
    "text = \"これは、音声合成のテストです。\""
   ]
  },
  {
   "cell_type": "code",
   "execution_count": null,
   "id": "2f538947-1dc9-4bae-aeee-8ada1611f9d1",
   "metadata": {},
   "outputs": [],
   "source": [
    "text = tokenizer.phonemizer.phonemize(text, separator=\"\")\n",
    "print(text)"
   ]
  },
  {
   "cell_type": "code",
   "execution_count": null,
   "id": "345fe91c-9d08-44c6-b7e7-5f153284d558",
   "metadata": {},
   "outputs": [],
   "source": [
    "text = tokenizer.intersperse_blank_char(text, True)\n",
    "print(text)"
   ]
  },
  {
   "cell_type": "code",
   "execution_count": null,
   "id": "a9e5071b-1eb8-4d78-b785-01154adf39cc",
   "metadata": {},
   "outputs": [],
   "source": [
    "token_ids = tokenizer.encode(text)\n",
    "print(token_ids)"
   ]
  },
  {
   "cell_type": "code",
   "execution_count": null,
   "id": "a4be0979-65f4-4a8e-9d91-54935c91be33",
   "metadata": {},
   "outputs": [],
   "source": [
    "tokenizer.characters.blank_id"
   ]
  },
  {
   "cell_type": "code",
   "execution_count": null,
   "id": "d572bb66",
   "metadata": {},
   "outputs": [],
   "source": [
    "tokenizer.characters.pad_id"
   ]
  },
  {
   "cell_type": "code",
   "execution_count": null,
   "id": "9754e6b9-02a4-42f9-ac75-103c874c30d4",
   "metadata": {},
   "outputs": [],
   "source": [
    "tokenizer.characters._char_to_id"
   ]
  },
  {
   "cell_type": "markdown",
   "id": "3cc579ae",
   "metadata": {},
   "source": [
    "## PyOpenJTalk_Kana_Phonemizer"
   ]
  },
  {
   "cell_type": "code",
   "execution_count": null,
   "id": "5f17a3b3",
   "metadata": {},
   "outputs": [],
   "source": [
    "text = \"これは、音声合成のテストです。\"\n",
    "kanas = pyopenjtalk.g2p(text, kana=True)\n",
    "print(list(kanas))"
   ]
  },
  {
   "cell_type": "markdown",
   "id": "f631eb22",
   "metadata": {},
   "source": [
    "## PyOpenJTalk_Accent_Phonemizer"
   ]
  },
  {
   "cell_type": "code",
   "execution_count": null,
   "id": "9ae5b389",
   "metadata": {},
   "outputs": [],
   "source": [
    "text = \"これは、音声合成のテストです。\"\n",
    "phones = []\n",
    "for labels in pyopenjtalk.extract_fullcontext(text):\n",
    "    p = re.findall(r\"\\-(.*?)\\+.*?\\/A:([0-9\\-]+).*?\\/F:.*?_([0-9]+)\", labels)\n",
    "    if len(p) == 1:\n",
    "        phones += [p[0][0], p[0][2], p[0][1]]\n",
    "print(phones)"
   ]
  },
  {
   "cell_type": "markdown",
   "id": "afafcb6e",
   "metadata": {},
   "source": [
    "## PyOpenJTalk_Accent_with_Pause_Phonemizer\n",
    "\n",
    "- PyOpenJTalk_Accent_Phonemizerにpau音素が加わっただけ"
   ]
  },
  {
   "cell_type": "code",
   "execution_count": null,
   "id": "4dc83008",
   "metadata": {},
   "outputs": [],
   "source": [
    "text = \"これは、音声合成のテストです。\"\n",
    "phones = []\n",
    "for labels in pyopenjtalk.extract_fullcontext(text):\n",
    "    if labels.split(\"-\")[1].split(\"+\")[0] == \"pau\":\n",
    "        phones += [\"pau\"]\n",
    "        continue\n",
    "    p = re.findall(r\"\\-(.*?)\\+.*?\\/A:([0-9\\-]+).*?\\/F:.*?_([0-9]+)\", labels)\n",
    "    if len(p) == 1:\n",
    "        phones += [p[0][0], p[0][2], p[0][1]]\n",
    "print(phones)"
   ]
  },
  {
   "cell_type": "markdown",
   "id": "1de2bd16",
   "metadata": {},
   "source": [
    "## PyOpenJTalk_Prosody_Phonemizer\n",
    "\n",
    "```\n",
    "Extract phoneme + prosoody symbol sequence from input full-context labels.\n",
    "The algorithm is based on `Prosodic features control by symbols as input of\n",
    "sequence-to-sequence acoustic modeling for neural TTS`_ with some r9y9's tweaks.\n",
    "\n",
    "Args:\n",
    "    text (str): Input text.\n",
    "    drop_unvoiced_vowels (bool): whether to drop unvoiced vowels.\n",
    "Returns:\n",
    "    List[str]: List of phoneme + prosody symbols.\n",
    "Examples:\n",
    "    >>> from espnet2.text.phoneme_tokenizer import pyopenjtalk_g2p_prosody\n",
    "    >>> pyopenjtalk_g2p_prosody(\"こんにちは。\")\n",
    "    ['^', 'k', 'o', '[', 'N', 'n', 'i', 'ch', 'i', 'w', 'a', '$']\n",
    ".. _`Prosodic features control by symbols as input of sequence-to-sequence acoustic\n",
    "    modeling for neural TTS`: https://doi.org/10.1587/transinf.2020EDP7104\n",
    "```"
   ]
  },
  {
   "cell_type": "code",
   "execution_count": null,
   "id": "0d2d57a7",
   "metadata": {},
   "outputs": [],
   "source": [
    "text = \"これは、音声合成のテストですか？\"\n",
    "\n",
    "def _numeric_feature_by_regex(regex, s):\n",
    "    match = re.search(regex, s)\n",
    "    if match is None:\n",
    "        return -50\n",
    "    return int(match.group(1))\n",
    "\n",
    "\n",
    "drop_unvoiced_vowels = True\n",
    "labels = pyopenjtalk.extract_fullcontext(text)\n",
    "N = len(labels)\n",
    "\n",
    "phones = []\n",
    "for n in range(N):\n",
    "    lab_curr = labels[n]\n",
    "\n",
    "    # current phoneme\n",
    "    p3 = re.search(r\"\\-(.*?)\\+\", lab_curr).group(1)\n",
    "\n",
    "    # deal unvoiced vowels as normal vowels\n",
    "    if drop_unvoiced_vowels and p3 in \"AEIOU\":\n",
    "        p3 = p3.lower()\n",
    "\n",
    "    # deal with sil at the beginning and the end of text\n",
    "    if p3 == \"sil\":\n",
    "        assert n == 0 or n == N - 1\n",
    "        if n == 0:\n",
    "            phones.append(\"^\")\n",
    "        elif n == N - 1:\n",
    "            # check question form or not\n",
    "            e3 = _numeric_feature_by_regex(r\"!(\\d+)_\", lab_curr)\n",
    "            if e3 == 0:\n",
    "                phones.append(\"$\")\n",
    "            elif e3 == 1:\n",
    "                phones.append(\"?\")\n",
    "        continue\n",
    "    elif p3 == \"pau\":\n",
    "        phones.append(\"_\")\n",
    "        continue\n",
    "    else:\n",
    "        phones.append(p3)\n",
    "\n",
    "    # accent type and position info (forward or backward)\n",
    "    a1 = _numeric_feature_by_regex(r\"/A:([0-9\\-]+)\\+\", lab_curr)\n",
    "    a2 = _numeric_feature_by_regex(r\"\\+(\\d+)\\+\", lab_curr)\n",
    "    a3 = _numeric_feature_by_regex(r\"\\+(\\d+)/\", lab_curr)\n",
    "\n",
    "    # number of mora in accent phrase\n",
    "    f1 = _numeric_feature_by_regex(r\"/F:(\\d+)_\", lab_curr)\n",
    "\n",
    "    a2_next = _numeric_feature_by_regex(r\"\\+(\\d+)\\+\", labels[n + 1])\n",
    "    # accent phrase border\n",
    "    if a3 == 1 and a2_next == 1 and p3 in \"aeiouAEIOUNcl\":\n",
    "        phones.append(\"#\")\n",
    "    # pitch falling\n",
    "    elif a1 == 0 and a2_next == a2 + 1 and a2 != f1:\n",
    "        phones.append(\"]\")\n",
    "    # pitch rising\n",
    "    elif a2 == 1 and a2_next == 2:\n",
    "        phones.append(\"[\")\n",
    "\n",
    "print(phones)"
   ]
  }
 ],
 "metadata": {
  "kernelspec": {
   "display_name": "Python 3 (ipykernel)",
   "language": "python",
   "name": "python3"
  },
  "language_info": {
   "codemirror_mode": {
    "name": "ipython",
    "version": 3
   },
   "file_extension": ".py",
   "mimetype": "text/x-python",
   "name": "python",
   "nbconvert_exporter": "python",
   "pygments_lexer": "ipython3",
   "version": "3.10.8"
  },
  "vscode": {
   "interpreter": {
    "hash": "2504cb0e3e4224dfb4bb19413b576a0bc8ab50ac2e8cfa3fbf1f5f00bce6c9fe"
   }
  }
 },
 "nbformat": 4,
 "nbformat_minor": 5
}
