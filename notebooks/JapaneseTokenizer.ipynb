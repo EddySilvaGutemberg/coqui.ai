{
 "cells": [
  {
   "cell_type": "code",
   "execution_count": null,
   "id": "e75addc2-c27a-40cc-9e93-6c35dd98aa8c",
   "metadata": {},
   "outputs": [],
   "source": [
    "import os\n",
    "from TTS.tts.configs.shared_configs import CharactersConfig\n",
    "from TTS.tts.configs.vits_config import VitsConfig\n",
    "from TTS.tts.utils.text.tokenizer import TTSTokenizer"
   ]
  },
  {
   "cell_type": "code",
   "execution_count": null,
   "id": "e385482a-9bf3-4672-849f-717c6a929d43",
   "metadata": {},
   "outputs": [],
   "source": [
    "characters = CharactersConfig(\n",
    "    characters_class=\"TTS.tts.models.vits.VitsCharacters\",\n",
    "    pad=\"<PAD>\",\n",
    "    characters=[\n",
    "        \"pau\",\n",
    "        \"I\",\n",
    "        \"N\",\n",
    "        \"U\",\n",
    "        \"a\",\n",
    "        \"b\",\n",
    "        \"by\",\n",
    "        \"ch\",\n",
    "        \"cl\",\n",
    "        \"d\",\n",
    "        \"dy\",\n",
    "        \"e\",\n",
    "        \"f\",\n",
    "        \"g\",\n",
    "        \"gy\",\n",
    "        \"h\",\n",
    "        \"hy\",\n",
    "        \"i\",\n",
    "        \"j\",\n",
    "        \"k\",\n",
    "        \"ky\",\n",
    "        \"m\",\n",
    "        \"my\",\n",
    "        \"n\",\n",
    "        \"ny\",\n",
    "        \"o\",\n",
    "        \"p\",\n",
    "        \"py\",\n",
    "        \"r\",\n",
    "        \"ry\",\n",
    "        \"s\",\n",
    "        \"sh\",\n",
    "        \"t\",\n",
    "        \"ts\",\n",
    "        \"u\",\n",
    "        \"v\",\n",
    "        \"w\",\n",
    "        \"y\",\n",
    "        \"z\",\n",
    "    ],\n",
    "    punctuations=\".?!\",\n",
    ")"
   ]
  },
  {
   "cell_type": "code",
   "execution_count": null,
   "id": "d05ccb1e-2711-44d2-9cf7-2214b6fd445e",
   "metadata": {},
   "outputs": [],
   "source": [
    "config = VitsConfig(\n",
    "    run_name=\"vits_jsut\",\n",
    "    text_cleaner=\"japanese_cleaners\",\n",
    "    use_phonemes=True,\n",
    "    add_blank=False,\n",
    "    phoneme_language=\"ja-jp\",\n",
    "    phonemizer=\"pyopenjtalk\",  # TODO: これとcharactersを追加\n",
    "    characters=characters,\n",
    ")"
   ]
  },
  {
   "cell_type": "code",
   "execution_count": null,
   "id": "d24647e4-694f-456e-9470-38d46602a87f",
   "metadata": {},
   "outputs": [],
   "source": [
    "tokenizer, config = TTSTokenizer.init_from_config(config)"
   ]
  },
  {
   "cell_type": "code",
   "execution_count": null,
   "id": "8e5641ba-c76b-4f44-9da3-9e75de51965a",
   "metadata": {},
   "outputs": [],
   "source": [
    "tokenizer"
   ]
  },
  {
   "cell_type": "markdown",
   "id": "e681ebdb-14cb-4037-a538-25ba0c10a70e",
   "metadata": {},
   "source": [
    "## PyOpenJTalk_Phonemizer\n",
    "\n",
    "- `TTSTokenizer.text_to_ids()` の処理"
   ]
  },
  {
   "cell_type": "code",
   "execution_count": null,
   "id": "411e94ed-9590-4ec4-ad26-cda15b0b41ce",
   "metadata": {},
   "outputs": [],
   "source": [
    "text = \"これは、音声合成のテストです。\""
   ]
  },
  {
   "cell_type": "code",
   "execution_count": null,
   "id": "2f538947-1dc9-4bae-aeee-8ada1611f9d1",
   "metadata": {},
   "outputs": [],
   "source": [
    "text = tokenizer.phonemizer.phonemize(text, separator=None)\n",
    "print(text)"
   ]
  },
  {
   "cell_type": "code",
   "execution_count": null,
   "id": "345fe91c-9d08-44c6-b7e7-5f153284d558",
   "metadata": {},
   "outputs": [],
   "source": [
    "text = tokenizer.intersperse_blank_char(text, True)\n",
    "print(text)"
   ]
  },
  {
   "cell_type": "code",
   "execution_count": null,
   "id": "a9e5071b-1eb8-4d78-b785-01154adf39cc",
   "metadata": {},
   "outputs": [],
   "source": [
    "token_ids = tokenizer.encode(text)\n",
    "print(token_ids)"
   ]
  },
  {
   "cell_type": "code",
   "execution_count": null,
   "id": "a4be0979-65f4-4a8e-9d91-54935c91be33",
   "metadata": {},
   "outputs": [],
   "source": [
    "tokenizer.characters.blank_id"
   ]
  },
  {
   "cell_type": "code",
   "execution_count": null,
   "id": "d572bb66",
   "metadata": {},
   "outputs": [],
   "source": [
    "tokenizer.characters.pad_id"
   ]
  },
  {
   "cell_type": "code",
   "execution_count": null,
   "id": "9754e6b9-02a4-42f9-ac75-103c874c30d4",
   "metadata": {},
   "outputs": [],
   "source": [
    "tokenizer.characters._char_to_id"
   ]
  },
  {
   "cell_type": "code",
   "execution_count": null,
   "id": "958a05db",
   "metadata": {},
   "outputs": [],
   "source": []
  }
 ],
 "metadata": {
  "kernelspec": {
   "display_name": "venv",
   "language": "python",
   "name": "python3"
  },
  "language_info": {
   "codemirror_mode": {
    "name": "ipython",
    "version": 3
   },
   "file_extension": ".py",
   "mimetype": "text/x-python",
   "name": "python",
   "nbconvert_exporter": "python",
   "pygments_lexer": "ipython3",
   "version": "3.10.8 (main, Nov 16 2022, 09:44:45) [GCC 7.5.0]"
  },
  "vscode": {
   "interpreter": {
    "hash": "2504cb0e3e4224dfb4bb19413b576a0bc8ab50ac2e8cfa3fbf1f5f00bce6c9fe"
   }
  }
 },
 "nbformat": 4,
 "nbformat_minor": 5
}
