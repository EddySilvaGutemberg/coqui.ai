{
 "cells": [
  {
   "cell_type": "code",
   "execution_count": null,
   "id": "e0a817a9-fdd3-44fd-bfa1-e4037a4f6c0b",
   "metadata": {},
   "outputs": [],
   "source": [
    "%cd .."
   ]
  },
  {
   "cell_type": "code",
   "execution_count": null,
   "id": "5a92c5a6-6e8a-4b46-bc54-c79db75be0a3",
   "metadata": {},
   "outputs": [],
   "source": [
    "import os\n",
    "import glob\n",
    "from tqdm import tqdm\n",
    "import matplotlib.pyplot as plt\n",
    "from TTS.utils.audio import AudioProcessor\n",
    "%matplotlib inline"
   ]
  },
  {
   "cell_type": "code",
   "execution_count": null,
   "id": "305d5d2d-80b7-4be9-afd0-576e43f7b15a",
   "metadata": {},
   "outputs": [],
   "source": [
    "ap = AudioProcessor(sample_rate=22050,\n",
    "                    win_length=1024,\n",
    "                    hop_length=256,\n",
    "                    num_mels=80,\n",
    "                    mel_fmin=0,\n",
    "                    mel_fmax=None,\n",
    "                    do_trim_silence=True,\n",
    "                    trim_db=25)"
   ]
  },
  {
   "cell_type": "code",
   "execution_count": null,
   "id": "ae0160e8-8971-452d-bd19-631f3d1777d3",
   "metadata": {},
   "outputs": [],
   "source": [
    "output_path = \"./recipes/vctk/VCTK/trimmed\"\n",
    "for wav_path in tqdm(sorted(glob.glob(\"./recipes/vctk/VCTK/wav48_silence_trimmed/**/*.flac\"))):\n",
    "    tmp = wav_path.split(\"/\")\n",
    "    speaker, fname = tmp[-2], tmp[-1]\n",
    "    os.makedirs(os.path.join(output_path, speaker), exist_ok=True)\n",
    "    wav = ap.load_wav(wav_path, sr=ap.sample_rate)\n",
    "    ap.save_wav(wav, os.path.join(output_path, speaker, fname), sr=ap.sample_rate)"
   ]
  }
 ],
 "metadata": {
  "kernelspec": {
   "display_name": "Python 3 (ipykernel)",
   "language": "python",
   "name": "python3"
  },
  "language_info": {
   "codemirror_mode": {
    "name": "ipython",
    "version": 3
   },
   "file_extension": ".py",
   "mimetype": "text/x-python",
   "name": "python",
   "nbconvert_exporter": "python",
   "pygments_lexer": "ipython3",
   "version": "3.10.8"
  }
 },
 "nbformat": 4,
 "nbformat_minor": 5
}
