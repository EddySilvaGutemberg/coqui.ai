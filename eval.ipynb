{
 "cells": [
  {
   "cell_type": "markdown",
   "metadata": {
    "colab_type": "text",
    "id": "6LWsNd3_M3MP"
   },
   "source": [
    "# Mozilla TTS on CPU Real-Time Speech Synthesis "
   ]
  },
  {
   "cell_type": "markdown",
   "metadata": {
    "colab_type": "text",
    "id": "FAqrSIWgLyP0"
   },
   "source": [
    "We use Tacotron2 and MultiBand-Melgan models and LJSpeech dataset.\n",
    "\n",
    "Tacotron2 is trained using [Double Decoder Consistency](https://erogol.com/solving-attention-problems-of-tts-models-with-double-decoder-consistency/) (DDC) only for 130K steps (3 days) with a single GPU.\n",
    "\n",
    "MultiBand-Melgan is trained  1.45M steps with real spectrograms.\n",
    "\n",
    "Note that both model performances can be improved with more training."
   ]
  },
  {
   "cell_type": "markdown",
   "metadata": {
    "colab_type": "text",
    "id": "Ku-dA4DKoeXk"
   },
   "source": [
    "### Download Models"
   ]
  },
  {
   "cell_type": "code",
   "execution_count": null,
   "metadata": {
    "colab": {
     "base_uri": "https://localhost:8080/",
     "height": 162
    },
    "colab_type": "code",
    "id": "jGIgnWhGsxU1",
    "outputId": "88725e41-a8dc-4885-b3bf-cac939f38abe",
    "tags": []
   },
   "outputs": [],
   "source": [
    "!gdown --id 1dntzjWFg7ufWaTaFy80nRz-Tu02xWZos -O data/tts_model.pth.tar\n",
    "!gdown --id 18CQ6G6tBEOfvCHlPqP8EBI4xWbrr9dBc -O data/config.json"
   ]
  },
  {
   "cell_type": "code",
   "execution_count": null,
   "metadata": {
    "colab": {
     "base_uri": "https://localhost:8080/",
     "height": 235
    },
    "colab_type": "code",
    "id": "4dnpE0-kvTsu",
    "outputId": "76377c6d-789c-4995-ba00-a21a6e1c401e",
    "tags": []
   },
   "outputs": [],
   "source": [
    "!gdown --id 1Ty5DZdOc0F7OTGj9oJThYbL5iVu_2G0K -O data/vocoder_model.pth.tar\n",
    "!gdown --id 1Rd0R_nRCrbjEdpOwq6XwZAktvugiBvmu -O data/config_vocoder.json\n",
    "!gdown --id 11oY3Tv0kQtxK_JPgxrfesa99maVXHNxU -O data/scale_stats.npy"
   ]
  },
  {
   "cell_type": "markdown",
   "metadata": {
    "colab_type": "text",
    "id": "Zlgi8fPdpRF0"
   },
   "source": [
    "### Define TTS function"
   ]
  },
  {
   "cell_type": "code",
   "execution_count": 1,
   "metadata": {
    "colab": {},
    "colab_type": "code",
    "id": "f-Yc42nQZG5A"
   },
   "outputs": [],
   "source": [
    "def tts(model, text, CONFIG, use_cuda, ap, use_gl, figures=True, reference_wav=None, style_wav=None):\n",
    "    t_1 = time.time()\n",
    "    waveform, alignment, mel_spec, mel_postnet_spec, stop_tokens, inputs = synthesis(model, text, CONFIG, use_cuda, ap, speaker_id, style_wav=None, truncated=False, enable_eos_bos_chars=CONFIG.enable_eos_bos_chars, use_griffin_lim=use_gl, reference_wav=reference_wav)\n",
    "    # mel_postnet_spec = ap.denormalize(mel_postnet_spec.T)\n",
    "    if not use_gl:\n",
    "        waveform = vocoder_model.inference(torch.FloatTensor(mel_postnet_spec.T).unsqueeze(0))\n",
    "        waveform = waveform.flatten()\n",
    "    if use_cuda:\n",
    "        waveform = waveform\n",
    "    # waveform = waveform.numpy()\n",
    "    rtf = (time.time() - t_1) / (len(waveform) / ap.sample_rate)\n",
    "    tps = (time.time() - t_1) / len(waveform)\n",
    "    print(waveform.shape)\n",
    "    print(\" > Run-time: {}\".format(time.time() - t_1))\n",
    "    print(\" > Real-time factor: {}\".format(rtf))\n",
    "    print(\" > Time per step: {}\".format(tps))\n",
    "    IPython.display.display(IPython.display.Audio(waveform, rate=CONFIG.audio['sample_rate']))  \n",
    "    return alignment, mel_postnet_spec, stop_tokens, waveform"
   ]
  },
  {
   "cell_type": "markdown",
   "metadata": {
    "colab_type": "text",
    "id": "ZksegYQepkFg"
   },
   "source": [
    "### Load Models"
   ]
  },
  {
   "cell_type": "code",
   "execution_count": 2,
   "metadata": {
    "colab": {},
    "colab_type": "code",
    "id": "oVa0kOamprgj"
   },
   "outputs": [],
   "source": [
    "import os\n",
    "import torch\n",
    "import time\n",
    "import IPython\n",
    "\n",
    "from TTS.tts.utils.generic_utils import setup_model\n",
    "from TTS.utils.io import load_config\n",
    "from TTS.tts.utils.text.symbols import symbols, phonemes\n",
    "from TTS.utils.audio import AudioProcessor\n",
    "from TTS.tts.utils.synthesis import synthesis"
   ]
  },
  {
   "cell_type": "code",
   "execution_count": 3,
   "metadata": {
    "colab": {},
    "colab_type": "code",
    "id": "EY-sHVO8IFSH"
   },
   "outputs": [],
   "source": [
    "# runtime settings\n",
    "use_cuda = True"
   ]
  },
  {
   "cell_type": "code",
   "execution_count": 4,
   "metadata": {
    "colab": {},
    "colab_type": "code",
    "id": "_1aIUp2FpxOQ"
   },
   "outputs": [],
   "source": [
    "# model paths\n",
    "TTS_MODEL = os.path.join(r'/home/big-boy/Models/Blizzard', 'capacitron-April-12-2021_03+42PM-26e9ee0', 'best_model.pth.tar')\n",
    "TTS_CONFIG = os.path.join(r'/home/big-boy/Models/Blizzard', 'capacitron-April-12-2021_03+42PM-26e9ee0', 'config.json')\n",
    "VOCODER_MODEL = \"data/vocoder_model.pth.tar\"\n",
    "VOCODER_CONFIG = \"data/config_vocoder.json\""
   ]
  },
  {
   "cell_type": "code",
   "execution_count": 5,
   "metadata": {
    "colab": {},
    "colab_type": "code",
    "id": "CpgmdBVQplbv"
   },
   "outputs": [],
   "source": [
    "# load configs\n",
    "TTS_CONFIG = load_config(TTS_CONFIG)\n",
    "# VOCODER_CONFIG = load_config(VOCODER_CONFIG)"
   ]
  },
  {
   "cell_type": "code",
   "execution_count": 6,
   "metadata": {
    "colab": {
     "base_uri": "https://localhost:8080/",
     "height": 471
    },
    "colab_type": "code",
    "id": "zmrQxiozIUVE",
    "outputId": "60c4daa0-4c5b-4a2e-fe0d-be437d003a49",
    "tags": []
   },
   "outputs": [
    {
     "output_type": "stream",
     "name": "stdout",
     "text": [
      " > Setting up Audio Processor...\n | > sample_rate:24000\n | > resample:False\n | > num_mels:80\n | > min_level_db:-100\n | > frame_shift_ms:None\n | > frame_length_ms:None\n | > ref_level_db:20\n | > fft_size:1024\n | > power:1.5\n | > preemphasis:0.0\n | > griffin_lim_iters:60\n | > signal_norm:True\n | > symmetric_norm:True\n | > mel_fmin:95.0\n | > mel_fmax:12000.0\n | > spec_gain:20.0\n | > stft_pad_mode:reflect\n | > max_norm:4.0\n | > clip_norm:True\n | > do_trim_silence:True\n | > trim_db:60\n | > do_sound_norm:False\n | > stats_path:None\n | > hop_length:256\n | > win_length:1024\n"
     ]
    }
   ],
   "source": [
    "# load the audio processor\n",
    "# TTS_CONFIG.audio['stats_path'] = os.path.join(r'/home/big-boy/Models/Blizzard', 'blizzard-gts-March-17-2021_03+34PM-b4248b0', 'scale_stats.npy')\n",
    "\n",
    "ap = AudioProcessor(**TTS_CONFIG.audio)         "
   ]
  },
  {
   "cell_type": "code",
   "execution_count": 7,
   "metadata": {
    "colab": {
     "base_uri": "https://localhost:8080/",
     "height": 35
    },
    "colab_type": "code",
    "id": "8fLoI4ipqMeS",
    "outputId": "b789066e-e305-42ad-b3ca-eba8d9267382",
    "tags": []
   },
   "outputs": [
    {
     "output_type": "stream",
     "name": "stdout",
     "text": [
      " > Using model: Tacotron\n"
     ]
    }
   ],
   "source": [
    "# LOAD TTS MODEL\n",
    "# multi speaker \n",
    "speaker_id = None\n",
    "speakers = []\n",
    "\n",
    "# load the model\n",
    "num_chars = len(phonemes) if TTS_CONFIG.use_phonemes else len(symbols)\n",
    "model = setup_model(num_chars, len(speakers), TTS_CONFIG)\n",
    "\n",
    "# load model state\n",
    "cp =  torch.load(TTS_MODEL, map_location=torch.device('cpu'))\n",
    "\n",
    "# load the model\n",
    "model.load_state_dict(cp['model'])\n",
    "if use_cuda:\n",
    "    model.cuda()\n",
    "model.eval()\n",
    "\n",
    "# set model stepsize\n",
    "if 'r' in cp:\n",
    "    model.decoder.set_r(cp['r'])"
   ]
  },
  {
   "cell_type": "code",
   "execution_count": 19,
   "metadata": {
    "colab": {
     "base_uri": "https://localhost:8080/",
     "height": 1000
    },
    "colab_type": "code",
    "id": "zKoq0GgzqzhQ",
    "outputId": "234efc61-f37a-40bc-95a3-b51896018ccb",
    "tags": []
   },
   "outputs": [
    {
     "output_type": "error",
     "ename": "AttributeError",
     "evalue": "'str' object has no attribute 'generator_model'",
     "traceback": [
      "\u001b[0;31m---------------------------------------------------------------------------\u001b[0m",
      "\u001b[0;31mAttributeError\u001b[0m                            Traceback (most recent call last)",
      "\u001b[0;32m<ipython-input-19-2bc413eb0ba4>\u001b[0m in \u001b[0;36m<module>\u001b[0;34m\u001b[0m\n\u001b[1;32m      2\u001b[0m \u001b[0;34m\u001b[0m\u001b[0m\n\u001b[1;32m      3\u001b[0m \u001b[0;31m# LOAD VOCODER MODEL\u001b[0m\u001b[0;34m\u001b[0m\u001b[0;34m\u001b[0m\u001b[0;34m\u001b[0m\u001b[0m\n\u001b[0;32m----> 4\u001b[0;31m \u001b[0mvocoder_model\u001b[0m \u001b[0;34m=\u001b[0m \u001b[0msetup_generator\u001b[0m\u001b[0;34m(\u001b[0m\u001b[0mVOCODER_CONFIG\u001b[0m\u001b[0;34m)\u001b[0m\u001b[0;34m\u001b[0m\u001b[0;34m\u001b[0m\u001b[0m\n\u001b[0m\u001b[1;32m      5\u001b[0m \u001b[0mvocoder_model\u001b[0m\u001b[0;34m.\u001b[0m\u001b[0mload_state_dict\u001b[0m\u001b[0;34m(\u001b[0m\u001b[0mtorch\u001b[0m\u001b[0;34m.\u001b[0m\u001b[0mload\u001b[0m\u001b[0;34m(\u001b[0m\u001b[0mVOCODER_MODEL\u001b[0m\u001b[0;34m,\u001b[0m \u001b[0mmap_location\u001b[0m\u001b[0;34m=\u001b[0m\u001b[0;34m\"cpu\"\u001b[0m\u001b[0;34m)\u001b[0m\u001b[0;34m[\u001b[0m\u001b[0;34m\"model\"\u001b[0m\u001b[0;34m]\u001b[0m\u001b[0;34m)\u001b[0m\u001b[0;34m\u001b[0m\u001b[0;34m\u001b[0m\u001b[0m\n\u001b[1;32m      6\u001b[0m \u001b[0mvocoder_model\u001b[0m\u001b[0;34m.\u001b[0m\u001b[0mremove_weight_norm\u001b[0m\u001b[0;34m(\u001b[0m\u001b[0;34m)\u001b[0m\u001b[0;34m\u001b[0m\u001b[0;34m\u001b[0m\u001b[0m\n",
      "\u001b[0;32m~/projects/Capacitron/TTS/vocoder/utils/generic_utils.py\u001b[0m in \u001b[0;36msetup_generator\u001b[0;34m(c)\u001b[0m\n\u001b[1;32m     68\u001b[0m \u001b[0;34m\u001b[0m\u001b[0m\n\u001b[1;32m     69\u001b[0m \u001b[0;32mdef\u001b[0m \u001b[0msetup_generator\u001b[0m\u001b[0;34m(\u001b[0m\u001b[0mc\u001b[0m\u001b[0;34m)\u001b[0m\u001b[0;34m:\u001b[0m\u001b[0;34m\u001b[0m\u001b[0;34m\u001b[0m\u001b[0m\n\u001b[0;32m---> 70\u001b[0;31m     \u001b[0mprint\u001b[0m\u001b[0;34m(\u001b[0m\u001b[0;34m\" > Generator Model: {}\"\u001b[0m\u001b[0;34m.\u001b[0m\u001b[0mformat\u001b[0m\u001b[0;34m(\u001b[0m\u001b[0mc\u001b[0m\u001b[0;34m.\u001b[0m\u001b[0mgenerator_model\u001b[0m\u001b[0;34m)\u001b[0m\u001b[0;34m)\u001b[0m\u001b[0;34m\u001b[0m\u001b[0;34m\u001b[0m\u001b[0m\n\u001b[0m\u001b[1;32m     71\u001b[0m     MyModel = importlib.import_module('TTS.vocoder.models.' +\n\u001b[1;32m     72\u001b[0m                                       c.generator_model.lower())\n",
      "\u001b[0;31mAttributeError\u001b[0m: 'str' object has no attribute 'generator_model'"
     ]
    }
   ],
   "source": [
    "from TTS.vocoder.utils.generic_utils import setup_generator\n",
    "\n",
    "# LOAD VOCODER MODEL\n",
    "vocoder_model = setup_generator(VOCODER_CONFIG)\n",
    "vocoder_model.load_state_dict(torch.load(VOCODER_MODEL, map_location=\"cpu\")[\"model\"])\n",
    "vocoder_model.remove_weight_norm()\n",
    "vocoder_model.inference_padding = 0\n",
    "\n",
    "ap_vocoder = AudioProcessor(**VOCODER_CONFIG['audio'])    \n",
    "if use_cuda:\n",
    "    vocoder_model.cuda()\n",
    "vocoder_model.eval()"
   ]
  },
  {
   "cell_type": "markdown",
   "metadata": {
    "colab_type": "text",
    "id": "Ws_YkPKsLgo-"
   },
   "source": [
    "## Run Inference"
   ]
  },
  {
   "cell_type": "code",
   "execution_count": 8,
   "metadata": {
    "colab": {
     "base_uri": "https://localhost:8080/",
     "height": 134
    },
    "colab_type": "code",
    "id": "FuWxZ9Ey5Puj",
    "outputId": "9c06adad-5451-4393-89a1-a2e7dc39ab91",
    "tags": []
   },
   "outputs": [
    {
     "output_type": "stream",
     "name": "stdout",
     "text": [
      "(17664,)\n > Run-time: 1.6828460693359375\n > Real-time factor: 2.2863282457641936\n > Time per step: 9.526377138884172e-05\n"
     ]
    },
    {
     "output_type": "display_data",
     "data": {
      "text/plain": "<IPython.lib.display.Audio object>",
      "text/html": "\n                <audio  controls=\"controls\" >\n                    <source src=\"data:audio/wav;base64,UklGRiSKAABXQVZFZm10IBAAAAABAAEAwF0AAIC7AAACABAAZGF0YQCKAAABAfAA2QC8AKAAkwCYAKMAogCFAFQAGgDb/6T/dv9h/1//cv+O/5r/k/+E/3r/e/+K/5X/kP95/1j/Of82/2H/vv9AANAARAGIAaEBmAGFAYIBhQF/AX4BgQGMAaYBvgG4AZ4BgQGAAakB5wEcAjMCKAL6AbgBdQEvAeYAnQBBAM7/Vv/0/rX+mv6M/mf+Lv7+/dj9yv3b/fn9Hf4v/hb+1v2U/XX9hv3L/TD+mv78/ln/rf8LAHoA1QAMARUB7gC1AIkAcwBvAHAAZgBBAAEAzP+x/7n/3f/5//z/3/+p/3j/Zv93/6j/0//i/93/0P/R/+X/EwBaALUADQFAAUkBJwH2ANYAwwC5AMEAwgC0AKYAnwCjALUAwQCjAE8Aw/8D/zb+iP0U/fH8F/1f/af92f3u/QH+Gf4p/in+EP7q/cr9z/0E/lz+0v5i/wcArQA6AZoBtwGpAZcBlQG4AesBAgLqAaoBSQHvAKwAbQAoAML/P//K/nT+Q/5X/qz+KP/I/1sAyQAZAUsBgAHYAVAC1gJdA70D5gPmA9kD3AP6AxAE4wN0A8oC+wEyAZEAHADD/3z/Mv/k/pr+Nf6e/dn8EPxT+8L6c/pS+nf67Pqj+5L8nv2n/pb/VQDbABIB9ACeAB4Ai/8d/+H++P5x/x4AxgA/AZwB2gHcAZUBCQE1AD//aP6w/Tf9Gf0p/WL9xv0X/hz+6v2N/Tj9Kf1A/YL9/P3M/gMAdwHtAkgEdAVeBgkHWQdAB7oG4wX8BC4EdgPcAmAC+gGtAWYBBQFyAML/7f4S/nf9Jv0P/SH9Pv2A/Qv+EP+HAAwCXQM6BI4EnASZBMgERQXMBRcGEgbJBZMF9QWtBjwHXwfwBhgGLAURBHkCiQCG/sD8e/vD+l76Hfr5+Rj6xPoB/In95/69/xQAEgCj/8/+z/3//Jf8h/yU/HX8LPz2+9X73fsX/En8UPz++yb76/ma+Hz3ovbw9XH1IvUw9W71jfWO9X/1+/Uu98r4o/pf/Nr97/6K/5T/Hf+F/r792fwr/NL73PtX/BD90f2X/mX/QQBEAXsCCATzBQUIEArdC3kN9A5mEL4R4xLNE1cUoxSvFHwUPhTjE3gTUhP+EjISIhG0Dy4O4gzCC9EKBgrsCEQHDQWLAuT/Mf1m+i736fPq8Dnu+uuH6orpFely6R7q3up367rrz+v96xTsSuyX7Lrs/uxn7dvtfe6n7xPxl/I39JX1sfbm9/n4sflQ+uz6y/so/cP+cQBkAkwE4AUuBxkIxghlCdEJ2gmrCSEJKggvB0sGyQX1BUIGlQbIBqIGYAYcBgEGWAb+BnEHfwfgBrAFcwR1A+gC3gIbA3UDwwMjBK0EdAWmBkYIPwpHDB0ORQ+tD4wPOQ/dDn4OBQ5KDYYM/QvYCxkMxgyxDcQOyQ+FEA8RTBE7ESARyxAPEBQPng2PC1gJAgeOBHYCvQA//+79kPzu+nX5jfgV+Oj3yfct9xn22PRj89rxc/AN74nt8Osf6jroquap5QPlk+RF5P/j0+Op44DjauN7483jPuTP5JLljOb056HpkevA7ePvF/JM9FH2Svga+q77Dv0H/tT+gf8SALwANQF4AbsB8AE3AskChANzBI4FegY5B/kH0AjsCTILagyjDboOrg91EBgR4BF/EsASsxJ5EkkSSBJyEogSVBLRERYRXhDXD4APfQ98D0AP0w7VDW0M+ApnCcUHYgYrBfsD7ALBAXMAMv9W/h/+hv5O/y8AJwEYAjIDVwRWBTsG0AYlBysH5wabBjwGrQU5BbcECgTAA7kDmANXA+UCKgJtAboA3/+8/kT9nPvc+TH4l/Yx9frz5/Ip8p7xLPHo8PLwK/Ge8V7yA/OH8yT0wfQg9YP1//VJ9rb2G/c291v3r/cG+Jz4PflW+Q75O/jU9lD1yvMC8h/wCO6164fpx+e65mDm1uYB6GHpz+pj7OTtT+/t8LHyhPR79lD4z/ku+6f8GP5k/7IA2wH7AikETgWJBs4HQQn5ChMNwQ99ElAVExh3Gr4ceh5ZH3EfAh9GHrQdah15HbodKB4DH9of/CBrItMjWSXrJuonNSj/JzUn/SWPJBQjoCGsICkgQx/4HYkcyxoZGWYXUxUaE/oQuA5CDLcJQgfdBCICbv+T/J75FPen9BTyYe+37BjqlecU5TjiL9+n3MLaRdkX2ArXM9Z/1bPUAdSD0y/T6dKL0q/RgdB6z6bORM51zjrPTNCT0fjSPNSm1STXO9kx3Hff8uLp5Yno9up27anwzvMO9176BP0R/8oABAKgAgEDRwM+A2MD8gNgBDMFDQbWBgMIgAmCC1YNYQ53DgYONw1lDPgLrgu2C1sMsw2MDyIS7xQ3FzMZEhvxHJYetR9aII0giyCZIBohCiKLI7IlvCd6KYYqByt0K/4r7SwmLlMvsC8rL5wtvSuCKtQpISqDKiYqoihuJRshmhxRGP0TvA8TDLsIPAVfAQf9z/h49Uvz7vDE7Yvpa+Sp3vPYatTX0J/O3syty97Kpcl1yD3Hd8YOx/HI7coazKjMcc0Gz5vRW9Tu1l3Zvdsa3pHgpuKs5Kjnk+rg7bHxSvWq93z5G/tE/PL99P8lAjsEigbUCFILkg1TDwwRKhLUEsETKBRdEy4SiRAhDu4KtQfsBJYCRwEQAKP+Kv62/uj/oAFAA9oDCwSxA94CVgJOAjYDlgU2CeYNYhNfGJccFCA5IzEm9iipKg0rFyuMKqwpeiiQJoIkhCK8IIIfCx/lHjcfch/ZHsUd+RtAGWQV4RBLC1IFngCA/Vf7X/od+vb5mfoh+1P6AfjU87Pt8Oad38bYBdNnzlPMtswGzvvPItK904XVtNZI16LW7NSM03XSItIK0zTVXNiL3ejja+rT8G72wPv7/0UERAgiC0MNKw5sDgIOFg2TCokHpwUCBYkG+ggSCwsOwxErFqoaKB6hIAsh3B9SHBkXbBJIDr8Mvg0vDzgRVRJuEjcSxBEhEQcQPA8UDS4K+QcaBQYCyP5d+tT03+5J6d/jvt8M3rXedeEn5srsx/ME+5QBqQapCg8N6g2lDbkMYAtHCt0IrQZUBRQFaASnAsv/7Pua+FP3mPbA9S31//NB8njwJ+887inufO+P8GbwNO/S7HzqzOgI6UXr3e1A8Tr13fhN+zX98f9UBNQJkRC3F9oeDye3LCQvGDC5MOkxJjIWMYcuqyusKcYnkCVUIvsdkRiCEXkJ4wAF+HLw7ell5VbjTOJB5OLowO0j8mv1Yvc++en7Lf4ZAEgCmQQ7BwQKfwzADQcNLwxvDQ4PaQ7bCegBkvl08/futent44ndN9btzm7ILMJ/vFu4WrXrsw20GrbRupTDd83G1LzZgdxZ4OfnqfEh/P8FXg37EOkQSA/xD8gUwxquH+shRyChHYEcuxrxGH8Z3xnIGoIbNxmkFcMTqBVfGtcd5h5uHa0acRmhGcAYlhWHEh0Qiw83E/YZxiE6KrAvhzA3LqMpfiRjH6kaABdlFccUIBULFqgXExvdHW8dKxmhD/IExfsY8UTn2d241fbU6dwj6tb4mQb0Ersa4B61HawUmwqgAQf74vdq+OH82QblE4YeNiRoJOQg1RmaDfn60OV30gnF7rqYseuprqMvo4KnLqxQr82u2aoEpW+e7ZnomOGc2aUQsJ66usgV14/kA/QpAbIKJhHWEIALvQVMBLcISQ+dGUwi6ScuLSYwQjLnM6E1OjNnKyUjUhgHD+QLrQp3D44Wrh1xI2EkJCEtGv8URxH5DxEPkAyqDKkSKhyaJZku+DXFPKRDJ0ORN+cmLBjYEa8SGBQ7EasKAQHk/IL9G/6X/q/4SfA86WrmC+ZN5hznGu6R+jkJYhWRHKYl/C1SNwk6BTPOKaQhth3JH7QlPC13M+EyOyrCGWcHs/ak58PZnMUWsOicaoqigAGA5YUWkOCaSp8RnLmTB4tlisuUi6rOwmfXreUv6QjtJvO9/MsKXBSAFxkTMwyPBM8CSwvdG+gyZEaTSotCQy7uFL0F0AF+BrkRLB3sHngeARy6F9MUhxbJGpQelx2aEUgFw/o9/YEM+hzLKqcwQjHRLQQnnCPVI6wixyWbI5sYug5SAPHyQe8s8r/4yP8cAt39mvnJ9mfy1u8g6/frG/hACasckCnKMrk56UIKSKg/Ui5aGzERqw1VEh0WZRv4KZE5SkM0PasnuQb24hnEnaoxlwOPdY7Ckk+iXbJauau20qrumQuQ0454kC6cd7JWz1/taQn7Fskb8Rt+Crv6ee4d5FboZfO8/hkTKitfQPBNqEt2PVcmpRFfAJX1d/dLAV8QliDzLaYy4i9tJxQZEgql/NXzJPHQ87T8YQT/DFob5yiVNGU7kTYWKnsZDAeh+MXwsPO7+p3/NwNQA3UBd/8p+8zvYuFQ1ZzKEMh2zKvY8fEDC8EeVCefIjAeFRunGOUVCBHBEW4aFihVNCQ8/z6CO00zXCIODMr3nuq55aTiAOAH3O/USM9JyVK/erGaqAOldqJUq0W1+bogwZTKC9eS4wXzZflo+hH7Yff08/b1WPwUBnQT7x0ZKlIzqTS5NA0xCylAIlgeLxs6HEkeVB6QHlMgtCCqGd8SixCwEJMTsBHrBzwCwP9C/hAEFgqHEXUaSSBfIoQg1h7JGikYVRm/GEkWyRClDpcR8BFGDFwB9/Eb5/3j8OGm6NrvTe/45b7VeM1H0ZHhEPKN+zP9uvQl7jPs1fCI+4EF8Ap+Cd4JFAyLDr0QeAqZAMLyJeQY4svni/P7/N/12+JHzty/vrmkuLO1CLeVwLLNQ9k52ovWgt+n7tT2mfUK69nmwO/ZAYEP0RWuHoIl3STnIYYdBRojJ640nDezMlEilhifHwErhi/1K/odHg9WCtoK2g7zGossPzQDL5odZQQU+9sBsA7KHSor3jP6MccjKxIYD4oe1TjHR+M8RCenF0gQPxROGoAaSxjuEJAH6vwo9VPwo+kH42nnse4H62ziU9HswLnIZdR91D3Sr8YuwyTRMOA74WHfT90S3broc+gE3/LUGtLx3Uvu+vl59kXoe+AV2WrWRtWay0jIrMaDz7rYNtzR3gjcqNXu0XXNfcxw17vkRvh5/y8BAQAU/vMJtw8qFXEjFi4cOMI8LTRNMOM78klyUz5SGUO/MPsgnxseHj8qCzWEPAA7WSl/GbMEiPdy+ZEFiRtwJQUfPwze+KD6nw7FJNkydjZdLFMfdRfPEBsTMCTIOQVJeU73PNcfWA6DAeMJ7BsyIUIjWg9G9nbkjdan07HVW9uc4ITfudgKx9exyLRAxPzSWt653cnSQswKxfS9gcYR2bf8cBjYGRoKh+xV0xLFU8HczGnVkNkg3q7WRNix3PvZLNOjyOm/nLV/tcSzgLU9wszQS+fW/YoMRRFzD80N6Q84EVgWMRz6I1w2cEpYWVlfmWF3X+RZdUi0MMAh3RldGU4XCBTbDJwEifpn7OLmyuhs7LXxBvl2+Jv2xvLa6K7pDO999of9sACWBJMILhUKJzI831GDWXJUZkZyL0caWxNNG4QtXENdVEZbD1VoRdgvOhYoAr/1h+m04CTeq+SK8pUAagv7CGf/xvBx3TzMPMG6wX3NpOfJA3kbIScvJL0YrgGI5TPMUL5Huey+F8uC02rewOaE6Vrmuda6wB6pbZaejwOXB61vxlfdcO/I+tMA0wK2A74B+f4XAYgFyA/LIcw0AEnQXJdrtWwTYXNT7j8kLXsexAof/Fj1+vF78qDygvHQ7/PnZdoNy/25VanPnMCaXaDermTBLsstzo/Nsc7t0CTU39iM3mnrePkLB8cUsCAQL0Q/Q0wyVHxZ0FcCUjFL60SNRt5O7ls1ZWtlXmBOU1FF+DnlLrIomySKI04lyiQ9ITwbQhKoCW4ChPrU9O30F/Xx8T/tbORI3m3a3thb1bvNkcnqxrTGtcV+whHAAMHXxTbLac8p0fPQt9MO2UHgAeek6FHptetp87QAaw69GEcfKiIvH6AalhZUE3gX7B7VI9kmwyIeGu8P5gUQAh4DywSpAvz49eua4nrejd944h3k0uSV45Dd09Um0Q/RAteJ4Nfn0+sz7o3ug+9K9BP9DwcXED4UBRN1EFMPbhAIEwgXhB2nJlwv6zQMNHYu8Sh2JM8iViOvIkIiUSIMIosgMx62HDIcvxxIHDEaDRWDDuYHUAIlAHD/7v/K/4D86vZy8G/qEeaf4yLi/eBj367cj9n61FjRxM/W0ArVF9ni2r3Y4dYM1/nZr9/h4+bmzujx6fns9vBc9hP9BgQLC7wQKRUzGEYaDhwRH3AiMSdyK/0tkDB2Mkk1cjfHOZI7uDtKO2M5szZdM2AxuTFfMjcziDKxLz8rqyXaICgdfBv4GgQZUxSUDQcGSf/6+XP2M/WJ9DbzUu/Z6BniJdy31y/UQtGHzjLLhseJw2u/Pb3PvD+9y74zv1y+Dr0Vuxq6abpFvHrAfMSZyPXLWc680HrSXdUX2Fra59xR35vhzuPk5cvnouks7O/udfF78xv1kfay9zz57/kg+yn9bv/sAjYG0QmEDdYPvhFPE+MUVxcQGvQc2x+sIlYlzCflKcArVy7BMPEydzSoNMM0QzT1M000qzQPNjs3bDdBN9w1IDVYNeQ0aDRdM8gxbDA0L+otbizFKowpzigFKBYndSUzI2MgXB2zGocXaBRcETUObgtFCOQEBwEM/U/52PVf8kXuQ+pO5mbi6N7722LZ19bY1L/ShdCdzo3M5MqPyWPI5cf5x0PIhsjgyITJoMoezIbNsM6ez8HQ/dEq06nUaNa32Frbl91a363gleGa4vPjiOVF5z3p3eod7MLtpe8o8tr0b/f7+SL8J/4PAPwBJwSdBoYJcgx3D34SBhVuF6YZ4htCHpYgvCJLJG8laCZdJ2IolCn7KgsssCzLLEksnivkKiMqeSnYKDgojSeZJnclJCS9IqIhxyAfIGcfch42HbcbGBqcGGUXcxafFacUbBMDEpkQLw/dDWQMzwouCWcHdwVRAz8Baf/m/aH8K/tW+Sr3zPR68kDwKu5J7JvqE+my51jmDOXX47jiu+G84Nff8t783TLdp9xp3Hbcr9zc3Ofc39zi3P/cMN2R3TLe5N6W30rgA+Hm4ebiAeQa5SnmLucY6P7o/+lY6+/ssO558BrypfP/9Dj2evfa+GP6FfzR/Xr/AAFgArgDHwWPBgQIcwnACtYL1gzLDboOwA/bEPgR/xLrE6YULRWVFd0VMRaJFt0WMhd6F6sXsxeoF54XlRejF7sXzBfNF6kXahcXF7EWUhb0FY0VHhWhFBAUaRPCEhISXhGpEN4PAg8RDg0N9QvICp4JeghjB10GWwVTBDgDCwLTAI//Rv4L/en74vr1+RH5NfhV9272lfXG9Af0W/O08hHyd/Hr8H7wL/Dx777vl+9z71PvO+8r7ybvLu9T743v1+8t8Irw7vBX8cbxQ/LG8knz1fNk9PP0h/Un9tP2ivdG+Pz4r/lb+gX7q/tX/Az9xf2A/i//yv9UANIATwHQAVYC4AJiA9QDOASUBPAETAWqBQQGWAapBvIGNAdzB7YH+QdACIYIxAj+CCsJSgleCWsJeAmHCZMJngmkCaQJngmICWEJLAnwCK8IawgmCNsHiActB8wGYQbwBX4FBAWHBAkEiQMFA4AC/gF+AQYBkgAkALn/S//g/nT+DP6n/Uj98vyf/FP8C/zB+3n7Nfvx+rX6gfpP+iL6+fnQ+ab5gflg+Ub5Nfkp+SH5Hfke+SH5KPk0+Ub5Xvl4+ZX5t/nX+fr5IvpO+oP6w/oK+1D7kvvS+xD8UfyV/Nr8If1q/bj9CP5X/qX+8v4+/4f/0P8XAF4ApQDoACcBZwGkAeABGgJSAooCwgL0AiEDSQNvA5QDugPeA/8DGwQzBEgEVgReBF8EXARYBFEESQRABDUEIwQMBPED1QO1A5IDbwNJAyMD/QLWAq0CggJYAjICCQLfAbMBhQFZAS4BAwHYAKsAfQBTACwACQDn/8f/p/+E/1//O/8Y//r+4/7S/sf+vP6x/qT+k/6C/nb+cf5y/nX+e/6A/oT+i/6W/qP+sP67/sT+zP7Y/ur+/f4R/yf/O/9N/1z/aP91/4P/lP+m/7f/y//j//r/DwAiADAAQABWAGsAgQCVAKYAtwDCAM4A1wDjAPAA/gAMAREBEgESARIBEQERAREBEgESAQwBAgH2AOkA4gDbANMAyQC2AKIAjwCCAHYAaABbAEoANgAgAAYA7v/b/83/wP+x/6H/kv9//2z/V/89/x//A//x/uD+zf68/qf+jP5w/l7+Uv5B/jb+L/4n/iL+G/4X/g3+Av4A/v79+/33/e397f37/Q3+I/43/kP+R/5Q/l/+a/5y/oL+lv6o/rv+0P7o/gf/If89/2H/dv+K/6X/u//T/+//DgAxAFYAfACdALkA0gDoAAUBIwFKAX4BsgHTAd0B1wHMAc8B3QHzAQMCGwIrAjECRgJaAmACXwJZAk4CSAJNAlACSAJBAjYCJwIVAv4B5gHdAdsB3AHgAdoB0gG/AaYBhQFSASUBAAHxAPIA3gDHAJkAZABKADwARABFACUA6v+e/1H/Gv8C//P+5/7l/u3+5/7M/qv+gf5Q/iz+F/4J/gT+/P3x/ez95v3c/c79vP2l/Y/9if2G/Y79qP23/cP90f3M/cL9rv2P/Yj9of2t/bX92P39/R3+LP46/kz+Xf50/pP+vP7d/vj+DP80/1H/Xv95/6P/4P/+/wMA8//2/ygAZwCXAKsAmAB2AHsAnQD9AHoBwQG+AZIBYwFTAV8BigG1AcoB6gEDAiwCaQKQApACWAInAjECXAKIAocCbQJPAhMCBQIwAlECZwJOAhoC7QHYAfsBIAJRAnoCUQItAvQBfAEjAdkA1QDzAP8AGwEGAdgA0ADUAMQAzQDSALEAoQCtAKoAkwBQAAIAtf9e/0z/gP/N/xYA8P+D/y7/AP85/6//IgBBAAsAj/8M/8n+s/7o/lX/pf+o/4r/Ev9//nL+ef6a/vX+Wf+7/7r/of9q//T+e/5w/tH+PP/d/yoAuf8i/9j+sf6l/qL+y/7q/un+3/6p/k3+wP2O/d39Sv7L/mL/0f/M/0n/jP70/Y79rP0U/nL+lP6r/gn/bv/z/+f/g/8Y/93+vP7h/or/9P9QAGEALQCT/xH/Ev85/0//VP+D/6r/4v/k/8r/a/8R/1X/ov/M/8P/qf+K/7L/+//4/zEAXQAxAA0AHAAhAPT/cf8G/xT/a/8bALEAyQCeAGgAMABeAKEAiQB5AIUAbwBiAHAAhwDYAEwBygH7AWwBlgC6/2H/HQCRALMA3wDdAAsBkQEhAggCfAFzALj/o/+W//f/5v+a/6j/yv86AN4ABgFSAML/if+1/0EAkQAwADn/H/6o/fn95f4SAI8A0ADJAGIAPAAqAOf/CQDEADsBHAGKAJP/qP6J/qn/lAAcAcgBNQLPAtICCAMNA4YCXQKeAvUCRQKAAUoB1QH+AikEqQSPBP0DcANAA18CdgINA08DGQTtA0IDEQIcAZEB5AHYAj0DlAJXAZ7/SP/C/5YBAAMiAwwCCf8U/fH7Vvz4/WH+I/49/Ub8gftM+5j74fwz/8D/3v45/mT9ovwi/P77ePy4/BT9Pfyo+qz5bfnc+jX8Ff5rAEMBngHSAZkBSQHkAdkC1AFIAKT+Xv7q/zIBxAMhBsUGhAVSA94BPAGmAf0B3wIkBMYDHgOLAswB7wD9AH4C5gJlAh0Bmf8R/3//vf/H//z/Ff/2/vf+WP/Y/9b+rf3i+/D6gfp0+1H+8gAUA0ECYADb/xsA/wEqAhcA8P3++wr8p/yS/Dn9MP+/AMAA/v9v/xL/fQC/AuUBAf+A+3H5Dvq5+/b7a/n/9rf3jfsq/4QA6f5x+634Yfjp+P72Q/Rw8+7zQ/TM91j8gv4x/7D8D/kE9iXzlPJb9D328vhr/JP+zf9tAZ8DcAWIBa8DbADx/Tf8DvzR/df9p/30AMIFeQh9CbQIYAXxAan/Qv6K/ooA1AHFAgkEHgNrAQ8Aov5G/tf+RQHJA+kD7AMsArwBrgJqAtAC8ALWBHYIcQu6DLMMxQuRC0oJEwaeBOQDrgUoCDkLUg+dEckQpAzaBRYDAQRLBGwGPAkECs0JBAknBxkG/AW0BF8Buf3l+9b91gPSCScMqws6B4cEmAdhCEMFRf7D9TfxIvNl+EH/eAV2B+gE6v/j/dD94f77AfYBcPyo+K/4J/mw+Rb8E/13/Sz+Xf75/kr8nflf+jL/+gKdBEcEjv8K+pv3e/cD+Ev62Pyf/yQDngQqAsj81vcI9s72YPxEAy8G2AM2/kv5N/Yi9/z7GgJhB6cJ1AYSAD337u8q7hDv2PJL+gn+NP9PAaQCxwEDABP/v/2p/FX9/P0P/vz84Pp7+XH27vbx+Wf7NPxn/Oj8n/1Q/0UBjwENAFL/sPze+sH65/hw+GP6bvsa+zb+UgCt/2oAWAA9APIBXgIWARn/7Psz+1f50/iM+5f8Av7A/+gAZACnAokFpQdTB+IDXP+o+jT5Tfn0/Of+gP6a+6X4k/lJ++H/bwO6Bs4JGwv5CXQEOgA2/iT9Hfym+UT3O/a39zD8rQHwBqIKsQsNCrMEugDO//IANQOXA4gDFgCa+yX7pvsv/8wEgQlkC78KdgmBBYEDhgIsAgUDkQHT/y7+Tf2x/TH/uQEtAwEE9gTiBTgGrwQfBF4DBQIAAd4A1gF4/lP8WP0h/l8C2AXUBj8ErwDM/+j+0QBiA10EJQQ+AyICNAH6AsUFnQeRBscDuQJRAgQC6gKZBFIEewXXBkkGxwZqBbYE3gKzABwAcgABAvcBjQEXAWsAYP+VAAME6wVjBncHAQa9AR3+w/sz+9f7k/xK/DL7Zfvo/Z3/MgE0AmsCuANXBvAGNwWvA4EACP9M/f76f/pD+3b9yP+MAfUBDwLIAUUBTgJLAxMCx/+Q/4sAnwDAATEBtP9F/iD9E/7X/+oAUgEZAlEA5f5A/7z/IwAgAWkCiAE8Ae0Am/8I/338MPqv+n/6XPuz/UD/awBVAJb+gPzb+2b8//1GAL//JP72/dX8nfw5/pf8FfqX+ff5dvtV/Iv8nv0S/9P+hP23+9z4M/au9v/3u/lE/Ub+AP4f/kj8Lflc9lv0N/N78yr2N/kz+hL8lf+EAGIB/gC+/T/6gfb/9Ej0hPSu9kr5rfziACcErwWABZICWv/9+uz3wPhI+SX61/x8/38AkgHXAk8CuQF9ANb9TPxp/Jj+SQBVARoCMwP5BBUFzQVYBlUGZgY9BZUD0QCD/Yb6d/rY/YQAxAPsB0cL9AzdDEMMNQq/BxcFtwGe/xL+3P7KAhgErQNtBhcIJQgkCWYI/wV3BAcE1AM0BUcHvAgkCcMHBAXDAtcAZwHdAusDiwVBBeEEIQWNBw0JNwf1BCADzAHVASUDUQOAAgwC5wL4A0ADjANGA9sAY/9E/pz9zfzX/ZwAHgNfA5kBBQAt/r398vyo/Lv9k/1E/Rn+p/7l/1wDnQUqBGwC4v76+hb8H/6X/iP+m/7O+3X4XvrT/CsA4wOCBDcDVgI+AuEBSAGZ/yf8PPrz+QX7q/wU/T/8UvrU+If6cf4SAyYHjwdIBUcDYgAk/RD8sPlt+NP4+vmp/EH+dP+FAMABlAOMBmgH3wMl/yn6i/cE+tD9XgCBAN7+4PxT+u/4sPlE/EwAQASBBjMFlwFj/jb6wPbb9Pr02Paz+Gn7hP0I/nz9h/3S/CT9dQD1A6oFKwMM/5D6VffP9Tv2rPeD+XD8ov11/5YAFQHMAW8BAwD6/qX+Uf3K+/b5ZPjx9oj39PlH/KX9Xv5DAP0AEQI+BNgDyAEJALz9Wfs1+mH53vlF+yj8q/zf/cv/lwLFBa0GowUsBAcC3v9+/nf9wf32/v//WP8bAPcAnAB7An8D6QONBM8FxAZ2BWcD5QHW/1X+PP49/Zb9HADQAtIEqQZ9B2EG6QR9AfH9S/rX95/5Tvxs/tb/0QCI/0L+8P6IAD4D0gVJB4YGWwP//lP7A/rV+qL8rv6MAGoBQAFPAxcFAAbUB+cHdAbtBIgDAwKYABYAawAPALT/8P+aAJECTAVhBw8ILAZZA5YAOP0O+gT58vmh+pL92v92ACUCxgKMArsCiQOuA0IEIAQfAtwAswBqAUcDeAUXBrwF+gStA5YDUQSMBLEE4QTxBOAEwARGBDwD7AEYAZ0BwAKEA64EMwacBiUH8QfGB6MHpAeCB5AG6QTMAlAAOf9//0sACwJhAwMDkgKPAXD/+f2Q/Sj9ufyJ/Vb+nP5///7/sv8Y/+v93vx5+2P6Gfqz+Rr6ovou+/r77vxF/5gBlQJtA7MCBgGx/539bvwS/Gf73ftO/Xb+7/8HAasAngC/AFwAkABcADkA8f+B/oT8Hfk99gj0x/I19Nf2n/pv/vUByQSiBS0FIQOlADv+6Pq4+Eb3O/Yu93/5afwf/vn+0f5t/cb70PlU+Gb3affd+En7HP0Y/vL+zf72/UD9nvsN+n74pfbJ9tb30Pnx/JX/QQKgBM0FqAaJBm8E5AGF/4r8LfpM+WL50/ns+4L//QGbBC0HDQnKCTgJkgeFBEkB2/7A/T78Efx3/mEAFQNhBsYH7Qe/B5kGkQSpAwUDxwJVBGwG+gg8C+gLQQugCfIGTwT4AuQBugG/ArUDqgRiBU0GJQcICL8I1gi8B20FRAT1AmEBNQF0AUIBvQCYAJr/Qv6K/bX8KfsV+dT3RfYl9fP0WPQR9Pbzv/Ro9b/1ifbX9mH2t/Qa85bwE+717VTu1+7R78vvzO5G7tLu9u+X8gT22vi2+3T9iv6C/9P/bf9t/pX9xPwN/Qj+M//BAQYEEwa9CDoLjw0GEMUSzhRjFogXyRf1F/wXcxiiGrUcRx4lIIUgPSCZH7kdehuWGQ8YwRc/GUkaXxuRHLAccxwLHCMbvhlvGJwWgxR5ErMQ5g4RDY4LzAnVB1wFCgIv/r75ffXQ8uTw+++58Hny+/QB9+73sPZG8r/rGuSy3FzWeNJj0PTOuc5Gz5DQQdI41NjV2db61urWldbb1V7VXtRf0h/Q/s0NzFfLQ8tdzBrPkdNL2QPgEOex7bDzwvdc+v76ivoC+h/5bvlg+w3/agVaDFESyBfRG00fsCPSJwEr7i0iL0UuyywtKrgm/yPcIQ4gyB/2IBUjmSZQK/cvvjMPN5c40jasMrUs8CRpHkYbyRnOGZUbvxziHAEeSh4NHvseCh9vHuQc0BiwElAM+wUmANH8+voR+kD6Tvqt+bb3I/XH8fft7unj5Wvimt5X2xTY9dSH0rbQf8/gzTfM5MpKykfKNssIzLDLyMoqyLDEO8GgvkG+KcBIwxPI8M5Y1WDcQuMG6DzrBe638A7zqvbF+hP/bQMICOIM+hFwGIse9iMQKEUpDChjJX8hBR1iGXwWLhVrFgAZnxzxIAQkrSWcJrolxiPoIfke8RuAGdkWOBW2FXsXkhoxH28j3CZGKdMpvyhYJmkixB2uGbYV4RJaEtcSuxQ8GNkbrB5BIdsibSIGIe4dORmWE80NJQixAnr++/rA9//0vPIO8HHt4et+6rfpB+qR6lPq7eh65m7isN0L2avUpdG20EvR+NIJ1fLV0tVG1cXTtdGMz/LM1cpeyR7JF8pmzHzQLNag3evlyu5U9/D+QQUmClgO3BEGFQQYbRqnG+kbUxsTGl4ZdRmdGcoZYBlaF1MU9RCiDRcL2QnxCU0Lcw0uD2EQSRBsDUQJHASv/HP1xvCg7cXtTPMJ+70Dqw1UFoMbEB5NHmIbeBeLEzoQVg73DbsPvBJpFqQazB6QIbQihyIpIDoclhcQEhgMbgbhAfb+f/0r/bP9iv0T/EX6x/Y38qLtaOnG5l/lG+Zm6PDqne0X8Gnx8vBY79rrmOfW4svd4NrZ2CPYTNkU2lDaZ9o22nfZudkf28rcneAN5VDpNO5I8534EP71A7YIxws0DtkPDBHnEssUeBZuF3kW4hQ/ErIOXgzUCgwJWwgRCPwGsgZUBjwFpAPX/3r6jvTG7n3rcetJ7oLzW/oCAb4G4wv2DtYQ/hEuEZIPMA7MDa0P2BSRG+4ivCmJLT4vtS1oKXkkSh/KGvsXXRbMFcoWhhcbGJUXFRV2Ec8MxgedAlX+pvtR+lX5A/mB+Xv5a/pJ/Hn8GPtQ+dj2gPQh9Cb1APeh+Z76h/mJ9ibxzuqb5CLf6dml1tvUEdOB0/TUOdcq20zfueI25hzpN+vm7hbyWvSL95D5Ufr0+hf7j/pd+gr76/sv/ar+XwFHBC4GSwmKC9YL+AvYCs4GngLR/8/7yvgc98r08fIB8y/0hfWd+Ir9ygItCTQQZRUAGmId/B3EHD8aThabE/sTWxWYGVIguyZSLAwwmzBWLkMreif+IvMe5hutGS0Zqhl4GRUZMhdsFMcRig4cDEYL8go6CgQJtAWTADD76vWD8bPuYO0J7XjuPvDF8Zvz4PRE9Y70HPPl787r7ecL4xneXNkm1Q3SgNBm0H/RvdPB1qDaKN744ATixeF+4M/eqN0s3UTea+AT5Pnnbuvr7bnvBvLJ9Lr37/lf+1P6r/YE86/v9O678hL5fv/6A50FSwRQAr8AXwAuAkwFvweKCOoIWwjdCSsPCBWfGwIitCUTKMgpCCnJJ6gn9ibHJ7QpkCqOKxEseisKK/8qByo8KWAozyXxIusfYhy9GA0VxxE2Dz0N6gzADSMOoQ7oDUoM7wo1CfIGaAQJAeD7Rffm8trtIupt6JPo4Oqg7tzxQPQx9Wv0ivIE7wvqOeR03mLY19L4z97OhdBX1a/aZ9+441DmPeeC6Evp7ehP6Azno+ST4mfhk+DJ4dfk2OeL667tK+277PjrretF7R3vzvC/8yP2TfhV+4H9FgCmA20GmwdJCMMGyQSiBPUEagfBC5gQehXqGVAcah3gHjQh6SRiKKAq5CtzK1orJy2GLjgv5i9CL6ctICxkKQQlrx9TGgAWGhM6ETMQ8w5CDZkLHArUCI4HowagBXoEeQMhBOAFGAgYCkwJ4wW7/1L4dvKg7i/tNu/s8j31ovaM9ojzB++S6lzlguAw3v/dFt+94A7iKOLe4RDiJORt5/DqKu/S8FvvUOx86E7l8uQ25wDqa+2l77DwdPIG9KD1z/eh9/300fJ/76PrcOs/7WXwk/Yb/SEBrgPkBZQE1AAv/F31eu/L7SXw6fRE/dwGmg7YFIEYTxp2G9ccXx7iHgkfkSBeIyknKywxMU01CDgQON0zsysBIlIZSRKNDrYNyw0qD0oQbQ/7DE8J6AQBATD9//j29Wv00fNW9e/3Kvo4/oACGQXPBmcGCQQYAXT+C/uT+Jn4oviM+UL5P/Xu8LPsZejh5pjm5eW15n7nt+aJ5u7lguV7557oWOnn6pTrxuzY7tHwiPOz9sH5efvy+k35g/bQ9Ez1/PW896f6sfwi/qD/g/6J++f41fQw8Gjsc+mP5+rnZuqV7A7voPH78l3zUvMr84/zWfaf+qX/4QYiD+8XASH8KH8uaDHsMuYx5i+7LYErjSrpKeIqbC29L5wxoDBmK5IjYxl1DicGjQCe/Pr70/z2/MT9ov6m/jn+D/3L+sT53fiK+Ov6LPyj/VcArwFVA4cGJwmECswK9Qf8AhX9Offw8gbw+e6I7y/wgvA48b7wRO++7a/qqOc65qrl6eXF5+XpFuxT743xA/Oa9Kz1L/Y09rv0ofGL70bvvu8c8fryv/OZ8/3z4fMw9JH2qPhh+c720O6w5ETbf9Nn0ZHUrtoQ4+PqyPAK9IX2f/ou/+YDyggqDNMOVRIcFsQaqx/lJLoqRDBiNBE3+TerN4I3PzdWN1w44Dj8N9M0mC0eJNAZDRHzC48JOAkeCkcKUgmEB20DBf+8+7T4s/ex+A35GPp5/BP/0AIyCPIMWBArEmQQqwyPCGwEuAG//+j7tvYt8VfsiOrx6m7s/u1n7lntw+r75wHlC+M/5D7mV+eB6DroYefr6DbsRPD787P1nvM57iLnXOA33DHcF98j42zoCu2B8DbztfN98fTsHebQ3UjVtc2JyIDH2coa0a7YJeDc5abqTvBo9t/8yAOLChcQ4hXXG6EgeiUfKpEtCzHtMxA1pzXyNYs2UjjlOqo8az3sPPU60DikNd0vwCg9ITsatBUdE+kRuhExEsESuBGoDmkKNge/Br4Ibwv2DHUMhgqmCfoJUgsPDtIQlxKREt0P4gpFBAr+tvnw9f3zpfL67wjtkenI5fDifOLd4nzjc+Ow4KbbjdXy0OrPxtO82zzlxezr71/u5Ojp4XLcctrn2hrdBuAb4j/k2eZp6f3qTOrZ5pjgodjsz4nIe8SBwx/G8svo0jva+eFE6e3u4fMq+Af77v32AXkH+g4nGQckOC49N8U9L0K2Q6lBWT32N+syKDDDL80wtzKSNE41DTVXM/wv2Ct5JTEddxVND70MYw53EbEURhigG5YdRx7THJUYQxROEWoP0g6FEP4S1BU5GZoahBo0Gl4YGBR7DtYH+QCU/Oz5afYh8nztZOgE5HLgmdxo2dvWH9Qs0nbPpsxWzNzM2c2fz3vQEdE108TVcdhE20bd49804kXjIOS4473iAuNy44LjL+St5Fzk7eM642jh09/y32/gLOFz4o/jc+Qy5r/p+O128zr7QwNxCowQVhQUFosXfRnYG1cfuSOmJ1grYy4/L+4uLS6VLEcrEyqxKAInvSRNIpsgFyCJIGMhzCFSIUkfkRzyGcYXdRYOFh8WCxZdFoYXaxkIG0IcWR1xHb4dFB6iHDkbMhpbGbkZxRmiGHMWBRPjDkwKRwXoAKH8XPh29M3vVOqb5H3fHtvq1+HVeNMI0YvPJM6UzT3ObM9z0X3Tc9Qa1FHTedOZ1f/Yc9xF4C/j1+Qt5nHm1ubx6M7ru+1x7vvtAu0i7WburO/Y8B3y9vK98wj0H/SY9cr4F/3PAcAF+AhoDGoPxBEhEwMU5hQoFrkXVxhCGOwXGBfsFRcVthSiFIMU4hPVEuMRTxGUERISoxFhEOUO3A2mDY8O+Q8hEXYRlxBqD3cOSg6CEFEUIRgFG2sc8BvtGWEYaBflFp8XqxiuGNgXNRaqEzoRAw/XDDYLpAjNBKUApPso9wD0MPEd7y7txOpM6GPlv+Lc4DDfG94L3v3epuA64rDibOG03wffvuBD5FTopOwx8IPyYvOL8+vyafJ+8/70J/aS91z4r/gC+sL7u/0cALUBzAHOAH7/tv7T/kkAagKvBHoGGAeRBkoFwgMPAzoEYQUABlEGVgW7A/0CYAI1AScA7v63/X38avuG+jP6Sftq/ML8wvwm/NT7ifwK/Tr9Tf3l/bL/ygLbBnIK3w05EPwQIBEAEEwPfRBwEoYU+RX+FUQV3xTaFH4VExZsFl4WkxRHEpoPLA2nDJUM3wutCpMHWQMhAHz9avwU/bb9hf1b/IL6TPjM9jr20vUa9hr3O/gG+Qf5XPln+iv8fP7i/wsAHP+I/Y/8dPwv/a7+5P/jAIIB4gAOAML/k/9S/9n+ff4x/kr+8/7d/qb9+ftS+rP46/YB9TLztvFY8dDxKvKW8snyRvOX81DyZPC07ZHrpute7H7t8+5979Dv8O9R78vuC+6z7Ufu3O7h7/vx4/NZ9vX4+/n8+uH72/xW/rT/2QBPAgcEFQafCFkKxAsaDUcO5w9WESYSphLsEkQTTRSuFfgWnBfZF8cXIRdpF2gXxRbFFmQWuBVdFZsUZxMmEjsRwhAGEJkPCg+ODjoOsQ2LDWANng0jDjsOjA3eCyEK+Ah9CJsIZQhFCJcIlAhsB44FYANSAY4Axv+Y/tD9Gv2m/B38d/re91r1N/Kk7sHrTukM6DHoX+jC58TmgeWm5M3kr+Tf4+rio+Fa4DzgT+BF4CLhj+Jz5M/ldeXY4y3iF+HA4efjMOYH6bHrq+0o77rvW++D76rxevTb9oP4pfih+NH5aPxBAPsEfwk9DGwNNg1lDMQMbA6ZEFkT6xULGHwa0BxmHmwfox95HvMcVBxoHBIdah6fH1YgsyB+IfshZiGGIFUfGR4KHXgc+Bt0GwQbNxrnGQ8aeBqLGn8ZghdRFVoTwxDoDT8LxQlBCpIK4AjUBcsC0AC+/zz9iPmh9jb1/PRv873vfOzK6nHq9epT6Rfl1OHq38XeC98Y3wfe5Nxw3F3cmNw23f7cetv42WfZd9kF293cZ9373ZzeBt8W38DeCt743cXffuKS5TXoeOo97bfvFfHe8ObvCvDC8aP02vgA/iwD4AcKC7AM+Q0xD/MQZhPmFRMYUBpSHPMcmR2/H5AiJyVhJvQlZiRxIlEhBCFGIRgiiSNJJHojZCKUIWghvSEUIukiOiOGIlUhrR43HOQb6xywHoMfOx4uHfwcsBv8GF4VuRHcDyoPJA7OCwkIEQWyAmgAY/+O/qT7QPdP8gzt/+kz6RzpK+kH6Ajm0uNe4XLfYt433VXbgdm11yjWMdYO11vY3tkJ2orYStVC0jfRcNEV04zVs9fQ2XvatNhS1grVU9Z12nvekOFp5EnnDOrb6+btgfCP8/32Svqk/Ob+OQLwBgkLIw77ENcSYBQ3FTUWgBcBGTsbJx/qIlAkMyQpIyIhYSBiIMAfVyAqIWkiuyKeIoQiaiFSINAelh0pHRYdpx2UHuEeFSAKId8gIiF8IRMhDB+WHa4bWRmKGbYZvhlAGiIZEhegFPMQ4gyDCa4GiwRXBFcERAJzAFD+vfkU9VfxNu3Y6hLrceqM50Lj39+l3nDf+eD23+Hb+9a001DSM9LD1HbXs9gC2WzWjdJU0FbQpdKF1LzTgNPh093UYteW2Qbdh+Gd5CHmT+bq5S7nquuB8WD2pvrM/b//zgL5BekHGwoLCzAM8w/uEkAVMxhrGvobKxywGxEcqhw3HWYdux2ZHnEf3R8lICQgah+NHtYcCxryFsUTvxFcEk0VRhidGSYa4hjmFNsRzhDREAYU0xfwGbYbrBvZGhsagxjJF40XZxZdFcQSFQ/3De0OKBB4ERUQOAu+BhoD1/8R/bf6R/gA9iv1c/QJ8zXxE+9965nmduIA36PdfN2Y3djeh9+H34rftt6w3dHdZN5+37vfQt5J3N/bQN624rHpke998EbuCupa5VXk7eY07DDzcfdM+fj4/vYu90753/u2/nkBhwL0AZgAugB/AwcIhQyLDVsMVAtYCoYK6QvLDWMRmRUjGFUYDBa3EtUPJA2BC80J1ggICrQJ9AgzCAgHjgcICFIHZwUAAhMA/wF+BqMLQhB/EyoU9xJFEA0NUwwDDb8OBRK1E/MTgRMFE1QTFhTMFPUSMQ/yCgQHVgT8AvcB7gG0Ay4DYwCx/ZD5TPYv9rL09/EQ8TLwifDj8qfzIPSs9qX5ffuK+4b5FPUc8aPv9+/a84H72gFLBYwG7AKA/TP6yfcS90z4bvi49rj19vZV+Tn7lPpV95D0C/WV9qP1b/Ph8ZPyXPWv92b2g/Sk9fv2B/k//AT9h/z6/X79sPq6+zD/+ADBAUwAeP3h+xT7sfrT+c/3Mfb89az1R/VF92X4rvfM95r2+vWP9j34CPsH/aD++v6AAEcG9QsPDwUQKQ6PCtUGHgWcBhMLoxBDFnYY9hYJFaAQKgqFBZQDEgT7BZIH1Aj7CRIM4A32DSMN8AvWCpsJUwkBDCcRtxZMG0cejx6EHp8f9B1uGVMWhRVlFnQZPRpMF5gU8RRuFjkUVw61ByMDqAG1AZf/Nfrk9ffz5PGE8Njuheuz54Tjg+EZ47DnQOz97FjqzuV04b3eyt444gXofu+F83vvLugr48nhx+Pg5qfn7+Uj5DbjuOPQ5KLjV+G63wLf7OB84uvhZeJa5tjsJPE78sfyZPMb9c32hvbA9rD5bgCaCTMRfhY/GMkTjg3QCDYFrQQ6CC8OFhOpFcIUTxDcCpQHugU7A/EBtgLwBdwKAA9dElYXjBtZHnYiHCQTJL4oJC9zM7050j9FQmBEIUZ4Q2I+dTniNao06zLFMfMvjiviJeceIhcTDykI8AK0/JH2wvAM6qfljuMR4t7dTdiq1c3UztPW0IPN6M1S0YfWK92f4BzhQeAV3V3ZudfB2n3fDuIh43LjvONF5bnkJ+C522vYZNWL0pnQX9Hz1obgg+hS6x3p9uNQ4C7gz+E45wXvsfWT/GECKgbGCUUPJhRhFBgSrA2tCM4H/wi8CzAQfxPUFZkUAQ7+BnIBhv0y/aD9yv3T/pr+ZgH8CDwQ6hZ5HHgfJCEgJKwpHDIePqNK+VKwVaJVJFUwUxxR7E9fTiFMQUmBRPA8yjSkL9csPijnH5ESSAMS93/wg+3C6uPoLeRB21rRbMVCvDm8pb8owqDEkcVNxhDI7sqTz4LUo9pN4GrgBd2s2cHZMOBR6f7yX/nE+F7zr+rv4oneh90x38XhoOTm5dHm7ujD6xLwjfMm8fDqBuVx4gfm1u/0/uoMuxfKHM4XQRCpCZUFHwbeBlUIvwtJDEQKtwj2BfMEzgSe/3H2De0X6EnmkuVa6NDtfvauAH8EwALYAxsJAxI+HtAp1DSEQ+ZQ3la5V4xWq1V+V2JbrFoxWOVUC03lRglBWzkJNa8vySUgGzYNX/7B8hDqwuOY3iPaLdOUyovCdLkYtHWznrJmtVi7NsD+xSrMKc940lTaNuH15hDt++4b8EP0q/hw/VgF9w0uEVUNSwQ2+QfzXvRQ9sr0XvPo89D2Pv2nAb7+IPmM88PrJeZZ53ntR/hrBg0RZRSVEn4PfgoKBuADSAG/ACIBLv/x/Nz7KvhM9Wzz4+zH5nzjE96u14/UfNSr177f4eYd6dju3fZU/yMMhRgZJJ8wSDoyQrJJ7E4BU0hUcVPXVj5cP16sW1BSwEZMPc40Ti4kKLogeRr9EcUEUfd17fjmeuJV3X7TbcdUvdi3w7byunvE8M1W1A/WYNImzo/Q/tkY5r7zoP+tBsULtA4xEBcRkhEFEwETwxFuDzEL6QjPBUwBdQDY/Pz4m/o1+jv3IfT/7M3jl99S4O/lHPBi+GP9IQDO/7f9RvxV/Gz8oP7l/lr8TvwT+wv40fUH827wFfDr7G/k4tvN1sjVptYV1tLTH9I81SvdqeXU7Lb0dP11Bw4TQxzpJFcu1jZNPpdDt0UySIZL6E8pVM1U+U/vQ4Y3XC88LIUs+yqbJHscehaEDmsE4vpl8crrNueX3czRs8rUzAbXhOIl5gnkNt+Y2Tfaqd4g5uL0LgXxEZMZ8xlOGC0YRRmaF7URvgyWCJkHPQpICiIJIwqOB0f/tvbL7HThidvd10LTRtQk2m/geeWW6HLnHOXh5mro8ef06B7q1e1l9BP4ufp0/Hv9Ev04+jH1bu0P6T7qUuvZ7J/uu+tf56ripNwj11DYPuGG6UTvzfaLAE4LMxekHOgc3x8vJ1kvxTIpNWw7bUTdSjpN5Eq5Q8o7TTMHK48nrCibK9UufyyNJ4khTxU3B3f6lvGb7J/nxeWK6CbsKPKM9AvwAOx/50LiB90h3aDp3fuGDbkamh0tGj8VNRFdDbEI9AZEA2/+R/yf+n/93wIfBXQClPha6BrY68zixVzEfMiIzr7Vi9m+2NDYw9iU21jiieOP4M3ecN7A4/7tY/qtAssEZASl/mr3q/Gy7l7y1fqt/6f9JPhl7zDo7uTT4pbkuulv7gXyD/Sm+HsDZRGLHS0kKCeeJ28lISg7MJk6hknRVFhVm1F7Sp9AfTqCOV48BUCcQec8eTVeML4qyCRZHOMPJAP49tzqR+Jx4BLn0+377nrryOG32avU2dGA0/rZ5OaJ8yv9GwRACFwNng8fDvUJtwI3/1j9/Pjc+Vf+2P9eBP4Fw/wv8oToDd4R1aDOnsj3whrE8cnFzUrTKtiv2dneoOCa2bLUXdWB29jmx+4j8Pvx+vgA/Cz68fa38dXz1Pvs/Gv3i/IO7ljrR+qi5+fj3uVV7GrwkfHS8//8sAvPGv8jCyfnKIsuHjbTOrFD3VDdXbVodWeIXR1W5VEeUf1SBlPEUjJSqkz/RAk+HTiVMVklehKE/Jfp8d3e1XDVlN3U4+blpN1+yQm6U7SCs0G4Rr6qyKPbU/AmAI8FYQUAB/oGHgVeAkr+PP2pAPcEYAlSEG4XYxuJGgEQRf6H7LfZIss6xS7E+cjE0bvYl9xE35TeZ9v11q7PjspQyuTMqdHU18Pf3OlW9PT6YfmZ8/zt8OmK6Djps+u47IzroOpt6H/ob+3j8G/wUu7n62Lr7fL1/8YQWiRfMFA1YDYSNUE5ckQjUv9bPGKsZvZkVWPKYXxc+FvaYD1gy1fTS4c/HDr3O245LC7YHVEKIvlZ6iLblc/TzW7Td9c11MTHnrckr3Cxc7UwuM+/Ns1o3dDrXPRr+ML9YwieDx0PXAydCnMLlQ35EJoUBBrNIjQnZSIwF7IIuPni7OLgJ9h915DZxNyo4I/fSd0Y3Kvaqtk71jLRqMpJxfHGGs6u1wXiPeuw8GDw2Oz25ZHfQeHT5CrmIufw5tHmoegu6/bsEe+Z8mvyEu+C71/z1P7pDkAbkCWFLzI2WjhKOm4+v0SiTQ1VOVZjVXRUNVQRVnNVSFO6UAtLB0MmOhwwBCfbIugg5RkCDyACJ/Es4qXX8c17yYDL3MtryDLEnr4zuwa+vcT2zNvVpN7p5UPrOfJg+ykFsg6HFC0XBBjTFyoZaBuVHekg9yJMIrcfXRw/GPASsg2bBFr6U/Jn6rjl0uR05TfnJOnx6PLl0+GH3+7gYePI4uXfmt653xzkw+p87uvvr/IC9W3zu+4/6wrpVOgI6vbpkuho52jlEuWW5XHlCOnR7UPwCvVZ+sL91AOjDQgWBBusH6oioiRPKVEtSzCJNRA7ZD7uPtk6AzSIMMovMi/rLf8pViQUHhYXog8sByoAnvrJ8crle9mQ0XvPFtAJ0mbSBtCxzcPLxskQytvPqNrU5lXxlvkVAIcEnAgPDYMRexWUGQEerB8xIdYlISsrL38wvC42Kl4jmRvFEwwNjAnsCqINZA1rC0EIUgRtAY3+7Puq+tT5Cfq/+vn6Pf3tAIAENweWBgADN/0Z90b0xPSf9rv5ffuE+e31ifB46b3iZ98D34Pd7Nrw1vvVNdoN3szhjeZQ6kLsce3y7aXuTPIM+dv/FAVnChsO0A6WD1MR1xLpEx4UPRIHENAQehFwDqUKMAikBeMBLf2L9ibwoe2M7ErokOKh3q3bQ9wO3qHdFt1E3JTd6uAP5NzpFfK++48ElgktDQMP5hB8FKYXlxphHRgh6yZTK/ctBDH7MVoxkS6PKAYi3h1rHLUblhu+GwwdJx8tH2Ib+hVqE1QRHA43C9gIiQnqDRETFxfmGaAbjhyuGg0VKg7SB+0CKwGbAJP/sv/iAnIFJwNcALv5Gu1K45rcANYm0tLR5dK91EDZkdzK3Erd892W3RPbGtiz1PPSptbZ3NHkeuws8cn0U/Yw9cvv1Otv6/DqbO1e7grsY+398X7zkfEL8Jjw7e8Y7nPo7eB84CHjSOf96gbrs+zf8JTz4fNA9Hz2/Pr2Ak8J6gqHDYIUDhs0H2wkLiiiKXgs9y8PMJkvWDL7NSw2dzVNNok0OjFuLYApkiZFJo0o4CenI0Mhph4FGo8WVBNiEVESUBP7EXEQBRCpEJ4QchDoEQYRmg5vDeMKOgjrBjgHgAlzCREIFwbPAvj+sfun+Mv1hPQZ813w6OwV6TXle+N84mzhe97b2TPX3dT003PU3dIb0t3RiNBUzrDLQMufy77O49Iy0HPOO9FS0FXQq9LY1AjWfNXQ1onYHNnP2uXfZ+WV6ELseuxM7PLxFPZy+Fr93gGdBksLTAyADdwSWBeOGpUf5yLnJH8mLCgfKzsuiDFQM9g16TiBNxA0SzItNG417DOxMscyeDLFL5UujCq6JO4nlCgxIcgdfRtWGkMZVBaOFz0YYBOAED4QXg5eDJIIEQhbCpsKEQlVBDIDDQhdCXUG0gSuAoQA6ABa/oP5SfnY+Q76XviW83zx2fBM8Gvt2eqV5+7jdOH13Ojbdtvf2bfXethb17XUztMY0AzPMc5rzdTMXsu6yKDJuMt5y9XMus1M0N7PxtC+0pnTz9aU2HLbMN6p4ozkFOb563vwtPEz9Y/7W/z0/qQFxwu1DTkQJhQRF18dtR2WHVAkDCfQJzArcyxYLSsvvS4RLyszNjNOMJoyeDQMMT8vxC/vL3AvbSuTKZwrCylHJCAk1SMBId4eAR0vGbEYVBlHFBwQ0RAqEXIO0AupCnEKWgj1A6wDJQj8Ax3+XQIMAnn+bfzl/G3+lfvY+g/4nfl1+2j20vUN9pH1uPSk85Py3O9n7rfuLe5+7Ujr5eg85zzlrORJ42vd+NtQ4Nfe1dpL2/XaWtgJ2kXYO9bg1sDVUNVX1mrW+dW71qXZ0dv/25fc4do64NTiNOBm5c7oRumK78TzovRK9In3QP9p/lUAHwZjCHILcQ0NEa0ThhOpFkIZZxp4GcAaLh7zHmAeQh/2IO8jWSSFH+Qh+yJZIE8eniBeIQkduB7RH+AayBtDIL4aCxfKGxEa6hKjFTEX7xIlFIgVuxBXEt0THA3PDZYRpw5XC1QNxwtFCAoLlwqtBgYFZwaUBWoD0gMu/tP/awOD/bb6ePv7+pD5d/nl+N30S/Wy8z/zhPec7X7spfHG743u2Osf6kHqDuyM6q3pyeku6fLlI+fU62nmW+hG6Mvl2+nW5rLoeuhh6pfpUOf06nDtg+wk6gDwDO+M76j0/fKq79jz5vvz96PwNPo+/T36yP5g+2/9XgMMA63+YgPBBoYEEQXBCGkKXAWrCkANUw1JCHUKpw+KCjUMFA+qD+EIfBDQD/kM3BFrDRYOWww9EGkRMwxgCIwOARF/DQ8OoAxbCPkM5BQqCloEMg22EU8IAgamC+0M7QdHCJQKnQMWCKIN/QNAAUYIzQTnA44BIwfABAf9hwLXBgcEZveb/AwIpgNw9Ln32AbSAt3zp/l4ArH/RPf48zQAfP09+tDyqfbWA2L4VvRL9qj6kvvF8An67PmL8u/5LPiT9f/15PaO+GX5mPWx+FX9OvRP8fX9vvxn9ZH3cfec/Pf/6PoF9ur6cv/rAvr5TvVHAcICEP7i/J4CIAGt/pkEtP89/tsFav2zAsIFCf/HA/oE4/3CBhUJ3fspAfT/DgxNBLTzogf0CYj+gAMKAzsB9gOtAXkALgLSAPICbgT4+mEDrwYk/tIDNAGr+0EGUQMl/AYAXv9YBbkB0vjQBbsC7f5q/xv8LAcZ/Gz8FgXl++z8oQXN/8D6GwAo/+//Rf8p/R/9YAIy+6P8QwNM+2QB1/7p+nUF3/6W9JsGPwRS9wsBWALV/WMCdvlV/BELNPyt+goBfQYe/qz8Bf+xATsKKPk++o4INQUN+vD8BAXcCgr/cflCByYGBgHQ/LUEOwWg/QgGfAMBAhYFAwVx/AEDswoM/wIBBgATCPUCqP9H/KMEFw4m9dkARwnb/yL7LQTxBf76FAYg/c4ASgZS/A8Ckv/2ARcCaPtMA/kBrPriAzb/E//y/V0A1API95n7UAboAEn1NAEX/5/72PwwACL8VfmTBYL6gPbIAWb9nvg/AC3+8Pwy+rT8UgH8+8L62f5G/736V/oYA1r7j/kgBRf6NPsVBLj/0faA/4YF0/fo/gkDH/j3AzoEDvZR/oEI9v5e9jwH+QMt9bwG2wT8+V0BawJJAV4BNAQp+kAABwzj/gv+awXdAhoBKAJVBDb/cP+XCnv9ZwEbBmT/uQVSABUCLgbeAp78bQKICY4AvvrNBcUHfP5OA5P9XgUjBQ31lQjXB1/76f2/AuIJdP259ncGowU0/I7+0/1jA8ED+/k9/FACyAOh/ZH1WgbuAuz0YgKk/hf9uQDy/KX8Hv1SAnv76/fCApkA9fus9wkAvANw/dH2Gf1nCLH0efznAw/5Pf4UA5j3DACZAf/3qgCj/LcCRfnn+8ABAgGu/Rn3pAmH/9XymQZ2BO332fxDCHkByvXNAZwDZwWS+mH8IAS2A1YEyPafAroHLQGm+DYCRwlxAn38oPwlC/n8dgTwAhH8bAbYAoMBbQB0BSUAvwJFABIFXwI0AAcF8f1yA9wEd//dBUYC9/ivCXgErv3e/1IFFgAj/wcEagEwAv353AUTByL5Df2jA6sE7wAe+uD/ogOsAtH6PQC4AQj/MQCv+zgEnvwd/l8E4fbQBEsBW/VmBjX9mABf++H/wwL394UEoP3F+g8BVf/U/rUARvkoA7n/5ve7BIj8zfjJBv/+L/ZGBVP/Pf7+AXf3GQFuCHn1iPsaCbb6EwHC/nn9YgXZ+GoAFAa3+Yj9TAbKADr5fAC7BEoC1fvG/mEF3wFs/fz6sgcUAnn6sQGdA03/WAJW/4v9cwc8ADT8PAKBAqH/+AC+/80A7ADbAZ4FngB+9dkDKw2F+K353gZNAbMBhf8Q/fAF1/7A/RoBHgFN/1gAlf/M/pQAbQRb/A7+wgMU+2kE+PoFBrn6XflyDE784vsa+s4HnQNP9Vv+Iwb7/eL8SP7WAs/+XvwnAJv+dQTZ+g8AOgJ++XAAVANQAN353vv/CqD5k/1yBKb54gR+/Zz5VgfYA0b24/4lA/wBmgM8830BbRBy9Zj8dQKsAJoCFAAz+gsCcQmF93wCFgNm/gUB4ABz/lkAmgIiAaH/UfvOCC4BH/pIBFwCqv4eAf0Bgv3+Acb/kwX6/JX9Xgef/fsBzPtuBPEAkP7+AGH9sQcT/Pv8BQUiAuj///oLAjcCMf+nAJD9HwDHAXsDRPqCAO4C6v4y/zX+NgTa/Tj+jvwsARELBPc99EQN0P8v/Hf+wflTCO3/OPlfBbH9c/u2Bh37IP/A/gAAtQOG+98Do/kOAN0EZP1/A5j4RQByBMr8ZgEa/scANwGq/wAAbv5DAaMBhf24/CoD4gDYAln7OvumDNwC1/B9ASMRMfbC9hYIMgc/+zD54AS/BOv/OfuwAZQATgNS/QH78gZIBvX3KPfBDwADOPKVAloJGvqQALwCm/zLAYUDXQHa9iQJkgNL+pv7oQEXC0j76PirAp4Lv/fC+HwKnQMP97UBQwV0+E8FHAD7+M0DIwgI9gz6mRBW+8PwNAvOCGrzuAGZ/WIAUgmS8wz/QwaHAKH6cPwqBqoAA/tjAMb+rv4DA7z+LPyDAlAAxvb2BbkC3PrF/ssBS/6XAY3+GP1pAU0At/4//dQHc/XPAq8FxfcJBH8Dwfdw/1QJd/p4/gD96AWR/Uz/yQRe9jQIQfuvA2wEcfDPBjYK8Puo9rsAMgYkCqP3L/SiClAIyPm29VsNMgKK86QLRv1W/zgIxvJeCC8GxPXdAe0HzfraAigBsvu/B7r4qgQMBSP2NAJQBm7/dfrPASsJwPqL/O7+KQqi/aL5EgTQ+mMMNfru+IUIAwHL+0z/sgEWAWn+HQHO/MYBLwbe9qYCDQNAAJP7xABrA537BQFtAN8Avv0B/jUGI/0t+nQH/voxAkUB+PlHA1kBJANY+fT/IAb0+7X9O/4+A2oFKfp0/REENAQs+jf9jASY/+L+ZAGOA4X8KPvFB6UE3/NUBHoEwP79/j/7JgXTA9r8mvzaAnAC4wTa+cX5oQcoAiIAzf0O/l0EwgOB+ib81geFAmD6Uf4bBVoBN/wK/jwDHwQQ/WH8bgBcAkEB0AFq+p4BhQK2+WAIYP7m90oD1ARq/2T7w/4+B5T7MfqBBF4AHQPZ9i4BlAg/+MT8dgfQ/Vn6fP5/BdgAmfgcAIEDpwIx+f/+egMqAYX6dvzLBEYC8vtU/q7+XwJOAw/4KAHeAxT9VP48/1AA4wFgAZj6SQOr/3P5+A/I8oz8XQ1z+QcAfffoB1MGpvsW+WEBPwoV/fz71vs7B1oD1PkB/r4EyQN0/GP+Cv5uCbcASvZOAzIDqQCt/e/9Gwcx/6X7lQXO/n0A6/8zAcP9q/whC8/8VvrJBPwAQwD9/LgDEAIa/ZH/Vf0UBT0Cj/l3/0UHCP7a+j8EPQKd92sDpAVy+Fb/JQMuA+H9o/6L/m0DZf8O/BoC8P+1/lv9mgEaAYQCm/we/dcBogKr+zX7UAUgAvP9ffoUBdQBbf6b/an6pwZnAbP7ufuEAu4GSPgN/WUKMPwc98gGkAXk94/9aAU2ARP+7vwsAyoDtfow/gAGX/+D/1QAsPnEBskIYvdP+MEKMQS0+kD/b/0IBp8AMftMBQ4CvfrvAo8BTf6zACX/3gLD/w4Duf3f/okFMf7L/asDoQG5/WEAjQAzA6X/8wA7/Xj9mAjAAtH6Sfv/AhIFCgIm+e36Swi8A4H5u/3HBV/7cP9gBPT88fycAcIBI/4QAO/64gIMBMX+Qfvi/HoF6wGp/Q78TwDhBA7+xPwnALT+vAL0/iv+/fzwAlkBAvwyAS0AAgTi+ar6kQUOAwD+nPucARQE4fuh+r4EoAMU/TX7GP2OBfQDZPyX/c7/yAFvAZz8Pf9FAkv+rP2/A7YCtPuB//ADrQCq/WD+SwAyA+8B4fsT/lgGsQD3/Q4B7v/MAaYCAf/DASUEzPpe/xsGywMb/An8QwSGBuv9hfr0A8oCWf7N/+MDQAGM+r37hwUFCKf+rvcyAPcEtQEV/Kn8VQVF/0L+SP9kADIDkv5k/KYAYgDeACkBUvwuAVYAqP7m/kX/7QF0AC3/LPttAE4FQ/wN/F0C8gH5/jL+Bf9oAeYBav2z/rb/5v/fAv39+/xTAXIAaQDy/WH/bgEi/7j8tv8AA4f9eP2b/tgArwAe/zT+q/3n/3MARP/K/u7+E/3VAH0Atv0L/93+cv9W/5j9M//KAAL/8P6G/qj9oP/wAHIA1v5f/bkBaQCF/FsANAKnAFP+tf2eAowCh/yK/scBfgOuAHn+OgDSAagC5/7C/jMDNwPrAEkBXQEdAj4BCwE7AigEtgGJ/+MB1QMMBO8AMQKVApoAewL8An0Alf/AAXgFbwOD/0cA4AFWAor/b/6MAeUBGgAG/7sBRAG2/d//1v/q/mv+SP45/3r+Xf6m/n//DgDx/VP+jP+r+736Cv6c/2z+pv0R/+T/j/0s+vz81f5V/iP+kfsa/hAAfv9h/k/9ev+Z//38M/zK/VL/2/91/oYAvgKqANX9sf3S/xj/eP73/sMBrQNsAQb/sv9GAe4AQwBeALIASwFxAUIBjAJaA/wBOwFdAkoC/AK+AF4B7QRoA3gDigIaAoUD2wNtAx0DQQS1AwEDEQOWA6AEuQO9AzcEBQRmAr0BLQNnA9wCLQGYAeMCuwL9AWEA2v+GALr/3f7a/t3+0f4v/lv+Hf4w/fH76vpw+4j88vwj/Mv60vpO/Cn7MPmp+d36Efyn+sj5vfox+0v7FPuv+yL7ZPqD+0b8W/va+zz+u//H/sD9Uv3S/Ov9KP87ALoA3QHmASX/v/4nAsADFQIuAmgDqQNqAkMCGwNkAzUFgwYcBjkECwNIA5gDLgWLBfgERgUQBUsFBAUDBHID5gI2A64ENgTaAhcCUAI4A2IC7QBG/xD/Of8y/qf9uv3A/cv8pftt+5v58PhC+iX5mfcY91/3KvcG93b2qPXC9rT26PS09Hb1kvXV9QL2efWf9SX3tvd/9//3fPjV+Iv53fr++yX8BvyI/Yz/xwDmAV4CyAI6BNoGZQiwB2UHIQnbCm4MDw5CD9APoxA/ErISMhLkEVYT+hTSFUcWdRZSFxMZ+hg0Fn4UvBTRFbkWuRYiFoYVuRRrEnwPRA7dDcENuw13DIYJ4Qa4BJwCtABA/uX7R/pu+GH10fKP8Azun+s56d7m9+TV4gTgsN2c3MXbytml1yXWydVs1sDWr9U21IzTWtQK1sPWKdcL2Y3b5N0/4KDi/uRy5yrrle4C8TzztvUp+or/RQTgBw8LXg4xEckTvRXMF7MaZh4nIlgkTiXSJvcnyicBJ1sm4ibNJ3kocSiCJ5UlTSNcIfIeMhy2GsQaBhtAGhsYfRU+E+oRpBBrDkcM1QvqDBIOSA4nDsMNuwzpC08L8ArUC/wN9A+KEBgQUhDIEBAQVQ60DC0M5QzCDeQMJQoZBwIEJgBf/AH5WPXW8Tnv2+xH6dPjJN4Q2DbRaMsex8jDS8Gjv0e9ELrNtkizYK8xrNiqXKtirQKxkLU6uT28V79pws7F0MnLzofV6N0u53HwUfliAbMIIA8rFCUZTh/mJmwvAzgBPw9DpEXJR5RIg0jrSOZJE0vRS55Ll0mvRUdBSTzFNnYx4iweKQIlph/tGVkU+A51CjUHmgQqAdD8Z/jn9MPyK/KJ8sXyD/I88SvxH/EB8i/1Nfob/wQDvgWRB0gJugvRDtYRRRXDGGAcyx+wIf8hBSLCIbogzB6yHGEbkxqbGaUWPhFcCqED8/0q+dr0K/HP7K7l7duv0YzJ0MTkwmfBPb4DuW6zBa69qSynrqZ8qMqqP6zWrCau6bCgtY27UME9x27NLtP62J3fYefN8Hz7TgbJDskUhRn8HNEgPiaHLZY2Sz9ARTRHaUULQg0/wz2ePidB3UPRREVCVjsNMmwp/iP9IbwhTiHYHnsZdhFyCYADXADz/woBSwFe/7f7bfen9Cj0vPXA9xj4kvbA9b/3NPzwAS4H1gjwBtkETATdBmwNVhZpHdEfehynFS8QQRCHFWgcKSLYI58gYRl0ECgJSwbDBxgLbAznCLcBAfqH8onrcOZ147rhlN+82+vVGtCZzAbLE8lhxq3Cy74xvVi9Hr87w5PHm8njxybDK8ATwyfMq9cV4azlxOWi5Pbk8uc87yf6cgQOC3ENWQ3FDW4QCBUQGgAeeiBVIiQk/CS0JcwmEiYOI3Qf+RzmHRoh8SNmJAEg0hhxEqYOaQ4AEnYWHBk8GOoSWAzxB4QHJgsyEQ4WfRa1E+IPtgsLCiwMFRATFIkXzRkFGVoW6BO+ER4RWBKcFbYZKBwwHJkYshHdCn0HAQiDCy0QARJVD7AJBAFk95nxSfHf88T22fix9rXvOuir4bXbqtgQ2cHaYtyL3T/dgdlR08XNW8tmzGzQbtbV2t7bAtuW2cfWYdS21YHbc+MS637v5e7m61Lqc+yA8N30ZfqGANwCZQJOAr8BngJBBsYJUAroCRUK/grODCcODQ5rDGoJIQfkB8AJ0wsyDs8Ong2AC+UIXgciCL0LlBGvFSsWaRVVFFITFRU8GkofIiPAJQQmZST6IjokdCY7KBsr5S2qLmUu/Sx0KkAoCyZNJOYj/SRnJYskCCKdG2ETrAwXCDUGlwdhCVoH4QAX+CHuN+ad42zkc+Uj5mbko96u1hrPF8vsy0HO+c4F0LrPCM2dy1jLYMoDyznOYNH500TX0dqE3KHded573z3i8+Zv7WDzWfYS9jn1pfW4+EP+FQOfBRUG5gTPA4YDNgSUB6YLOQ1lC0kGQwCD/Wj/FANxBs4HrgRt/rP46vQM9az5Z/40AJD/S/2w+/D7B/2//wwDkAZgC4sPJRNMFWQWlhgvG6IfNyf1LhEz9DPBMjMwIy8RM7k5oj+DRI1FGkGjOeozxTGSM/g2YjnWOF4z0CoFIWgXvxAXEPgRuBGEDbYEp/iH7tvoOeRP4ULg/d0v2vTVE9BqyJPCucAcwQDC78EGwQDAsL9bwCPBl8GXwujFEsqpzb/QSNS713DbEt+D4evkI+r17+f0cvdI+C/6Jf0fAYYFUQkMDPEMuwuiCPsG3QncD58UgRTyDr8GhwCz/1cDRQgfDLQLmwWz+6zyEvCj8/f5hv83ACn9Dfk19LHx9fLW95P/SgfGCnIJ0QeiB0IKvg/fFoweliTmJ/QoeiizKE4rQzBZNSA4fzokPIg8Ij1bPXo7VTlfN/00gjQ2NZA0sDE2LP8jBxw2Fg0TOhE8DycMZAbH/Xr0Te056KrkoeE23xbcbNhC1Q3Qs8k/xWXDfMLUwnzFQsg+yr3JqcUawRjAmsW0zpHWHtvn27baBtr12iLfDOdl8Jr3E/kJ9vHy2fPi+SsCgQmzDdsNBQuZBjwDlQTaCtwS2Bd+FpgPFAdrAWcBzQVYC6MPOA8xCQ0ANvjg9Dv24fsfAtQECgJH+030OfCk8b34YADfA7wEQAPzAO0AOQMgBygM7BFWFugYvhk8GWYamh2EIPgi7ySoJTonUitZLvUtgCzNKScmNCQYJacn3SmTKssmZx4kFiMRog+OEHcR1RBvDbsGaf7l9uvxUvB68ZrxbO/a63vnDON03s/aLdlo2ffa/tw63o/dXdua2KXVaNTP1nncCeMO5yTom+a548LiyuRb6THvB/WN+PP4L/cf9c31a/lO/rsDqwdBCI4HeQbeBG0EiAZ2CmcOvxAmEB8NOQmDBjwG+wdaCh0MLwziCGgDhP7Z+/L7Cv6KAPUAYP5R+lv2ePRH9Y/35/lX+j75Nvjk99v42Po7/Yb/jQCZAFYAZwADAgsFZQglCpUJhAcBB/AJFA+OE3gU4hE5DgkMEgwED0ETCRYKF/8VABKQDasLmwtyDSYQOBE7EDAOOwtLCKUG8wUcBjoGzAUQBRwE5AI1AX3/0f1S/L37LfxJ/Ov7N/tJ+Wn3ivYv9mP2CPf49uD14vRn9Hn0PPUH9h32VPXn8wDzYfMm9c33qvqZ/Gv8TPun+qH68Pvy/nICgQX8BpwHEAf0BPMDIgS+BS0I4Am2CgkKFQhQBfwBVP+2/YH9bP4S/kH86vkK9+HzivGV7zLuDu6I7SbsXuor6VfpNurr6jnqC+jo5bnkAOVV5proMOvJ7PzsTOz668zsa+8I8zb2i/hH+oj75vwl/zACzQWLCSoNhw8eEIoQ5RGBFAsZdx4iIjoj5yL7IY0h7iJHJc4nvCktKk0pnifiJcAk8CPBIi0hmR9DHpEcCRqdFg0T6Q8XDX0K2wcvBQkDZwEw/yX8q/hN9dryfvFr8KvvGu9V7vPtLO6C7vvuzO+q8Jrx1PJq9D/2YPiY+oT89/3V/nX/ZwDDAZUDfwUhB8QHGAeFBcwC9P88/lT9EP3B/Hf78vju9HHwQuza6Nrml+UF5Mfh396U26TYpdYw1cHTydKZ0bnPDc4mzQfNqc0wzwnRoNKR1PDWHdk227jdR+HK5cTq/u/k9CT5i/1zAp0H2Qx3Eh8Y6RyIIUMmKSuEMNo1IzoQPQU/mkBnQpJEuEZjSIBJnUmxSNtGn0SOQnBAMD62O684vTT1L9gqwyVHIZAd8hnpFSARzgt+BmcBAv17+Xn2jPNK8P7s6Olu5wXmO+XF5ITkQ+Qa5Bbkt+Qz5vrnw+kY6+vrouz37RXwfPLW9Kv2f/eL91T3+vbU9iP3XPfn9vr1XvQc8s3va+0f6yvpO+fe5BfiMd8Y3CvZwNZm1E7SqtA+z8TNVswnyyzKrsmwyQbKx8opzAbOBdBE0srUvNdE2xrfUePp58jsAPJA9zf8HAFOBrcLTBEYF8scUSLJJ+wsmjHkNcI5gT0kQY1Eo0djSpNMB04eT6xPi08iT45OgU3wS/hJfkeHRENBvz3sOcQ1bDH9LGYonyPQHgsaHRUcEDILegbuAYv9dPl89bvxa+5V62bopeUz4zLhjN9M3mrdstwh3Mrbn9un2xXc/dwN3vze1d+i4FnhJ+Iu41HkeeWI5mvn/edN6Jjo4+g16XvplumJ6Unp1+ha6NrnYOcB56vmO+ax5S3lueRS5PfjxePB49HjAORH5I3k7OSc5Zrm4+di6fbqoOxl7jfwJvJX9MH2YPk0/BD/4gHBBLAHoAqTDZQQhxNuFlYZFRymHh8hgiO8JcYnoSlIK7gs+S38LrIvLDBhMGYwRjDeLy8vTy4hLaUr/CkwKEAmPCQkItsfXx22GgAYVhWrEvwPTw2mCvsHUQW/Ak8ABv7h+9D50/f29U/06vKv8Yzwf++F7qPt7uxt7CDsBuz86/br5+vM68Tr5es17Jns/+xb7ZHtpe217cjt7O0o7mzupO6x7pvuee5C7gju6u3g7dbt0O3M7a7thu1q7VztYu197bLt6+0v7nbuuO4i76zvWfAm8fvx3fLO89P07/Uj92/4wvkn+6n8JP6k/zoB3wKPBDoG3Qd5CRALpQw+DsgPOxGaEuATBhUUFgwX7BerGD0ZqBnrGQYaDRr2GcIZchkAGWUYnxe1FrIVohSCE1MSDhG1D0wOyQw6C54JAQhvBt4ETQO+ATIAsv5B/eD7k/pf+Uv4UPds9qD13vQs9I/zCPOk8mDyOvI28jnySPJj8oHyuPIO84DzBvSX9Cv1u/VM9uP2g/cx+Ob4m/lI+uv6hfsg/Lv8Wv0A/qH+Pf/S/1wA4gBpAfUBfgICA34D7QNSBLAEBQVZBawF9AUzBmgGjwarBr8GxwbDBrAGlgZ1BkkGGgbpBbQFeQU0BeMEhAQhBMIDYwMLA68CRALSAU4BwAA2AK//I/+R/vz9XP23/Bf8dvva+k76yflI+cv4TfjU92n3CPe09mv2K/bx9cH1lvV09WD1VfVR9Vj1ZfV19ZD1t/Xk9Rn2Wvan9vz2XPfD9yr4kfj++G/55/lt+gP7nvtE/PD8mf1I/vz+uv+DAFgBPgInAxAE+QTdBcEGrAedCJYJlgqXC5MMiA18DmsPWhBQEUASJRMDFNUUmhVXFgkXrhdBGL8YIhlrGZoZqhmkGX8ZOhnVGEUYkBeyFq0VhRQ9E9oRWhDADgsNPQtbCWoHbAVdA0YBKf8F/d/6vPii9oz0fvJ98IHulOzB6v3oUufD5Urk7+Kz4Zjgot/Q3ireqN1P3SHdFN003Xjd4d113ijf/N/r4PHhDeM95Ijl3+ZH6MDpOOu27Dbute848cHySfTP9Uv3wPgg+m/7uPzr/Rz/SABpAYgCmgOdBJQFggZqB00INwkkCg0L+gvnDMwNtw6rD6EQoBGnErUTzRTrFQ4XMxhcGYcatRveHAseNh9WIHMhfSJ4I2UkOyX0JY8mCCdhJ5QnoCeEJzYnviYQJiYlDSS4Ii8hdR+GHWkbHxmuFhYUVRF4DoALcQhXBS8CAP/J+4z4TPUR8uPuxeu+6NblBuNQ4MPdVNsJ2e/WAtVN09PRktCRz8jOOs7pzcvN7c1NzufOvs/G0P3RYNPo1JTWWthA2j/cUt564K3i5OQg52HpmuvT7Q7wO/Jf9Hf2dPhV+iD8zf1e/94ATAKlA/AEKgZNB18IWwlFCiYL/QvQDKENew5PDyMQARHXEbQSohOaFKIVvBbeFwMZNRpnG54c6R00H4cg3iExI30kuyXuJgYoBinqKa4qUSvPKywsWSxYLCIstysYKzsqKSnUJz8mayRaIhggox0FGz0YUBU8EgYPtQtSCN8EZwHv/W/68PZ48wXwnuxT6R7mC+Mb4E3dqNov2O7V39MP0oLQNc8wzmnN58yjzJfMzMw2zeHN1M4L0IDRJdPw1M/WwdjI2uPcG99w4dfjSua66Bzrd+3I7w7yT/SF9q34vPqk/Gf+/v9sAcQCDwRLBXUGiQd6CEQJ6wl5CvYKdAv7C3kM9gxsDc0NJg6GDukOYA/2D58QThELEsgSdhM4FAcV5hXpFvMXBRkaGiYbIhwYHQMe1x6kH1cg7SBnIcMhASIgIiMi/iGsITMhgSCQH3YeJB2hGwAaLhg0Fh4U6hGSDycNpgoRCHoF2gItAHb9uvr59z/1ovIY8KDtSev86MjmuuTV4izhtN923l7dbNyv2x/b0trO2gnbfNsd3OLc0t3u3jjgteFS4xDl5+bB6KjqkOyC7oLwevJ79Hn2ZfhN+iP83f2B/wkBdAK+A+AE6QXTBqMHZQgACXsJzwn3CQYK+AneCbsJhQlECe8IiAgTCJcHGQeiBjcG2AWHBT4FCAXUBKAEfQRsBHgEmwTVBB4FbwXOBTMGpAYWB5UHJQiwCDsJuQkvCpsK/gpZC6cL6AsVDDsMOgwbDOULkAsvC70KNgqXCeAIFAgqBx8GDgXyA9MCrQF0AC3/1v19/Cz73fmX+Ff3Gfbj9L3zwfLh8RjxafDA7zDvxO6I7oLuqO727nDvA/Cz8I/xkvKy8/L0VfbQ92T5EfvO/Jr+bAA1AvgDtQV7BzoJ4gqGDBMOgQ/NEPUR7RKyE1QU1xRCFYwVpRWPFUkVxxQSFEQTTxJBESMQ1g5uDekLOgp5CKkGyQTkAvcAAP8P/S77W/mg9/r1Y/Tl8njxKvAD7/vtE+1K7KDrIuvG6onqYepf6pbq8+qC6y3s2eyi7XjuS+818DHxMPIr8zP0OPUt9iL3D/jp+Ln5j/pZ+wD8nfwq/Zn96v0b/k7+aP5m/m/+Zf5M/jr+If79/b/9ff0//Qn99/zw/On89fwK/Tj9f/3b/X/+Sv81AFoBpQIfBK0FVwcjCfcK+gwHDycRRhNbFaEX7Rk3HG0eXiA4IvQjgCUHJ1UocClUKtwqGysKK7UqNypyKYUoWCfcJSAkAyKjHwMdPRpKFwwUrRBHDeoJhQYDA27/tPsA+Fr0s/Ag7ZjpRuZg47fgMd7V23HZJ9cd1VzTCtIX0WfQANC9z6fPxM8W0NfQ4NEI02HUyNVZ1yHZA9sW3SbfQOFK4z7lUedv6Z3rxe3W79bxuPNg9dX2Hvhy+eH6QPx6/YP+df9IAOAAVQGlAf8BcQK7Av0CBQMJAyIDJQM8A1EDjAPsA3UEPAUaBjcHsggvCs8LjA1SDyIR7hL6FEcXzxlyHA8fniEUJHcmAymwKzwuZjArMrgzvDSnNYI2GTexN883fDe4NoY1EzRiMlkw9C0tK0MoVyUWIpke2hoKFwYT4w65CkgG9wF8/an4DPR87z/rZ+fi46Xgfd1q2mfXttRK0uTPh82Sy7TJJ8gOx4XGccZsxpnGJ8dfyOHJlctizUzPddFo01vVgNdu2dXbJd4i4IniIeXY52jqOO1W8NLy1vSu9l/4JfoH/Cz+HAABApcDmwRuBWQGMQegBzEIyQhzCXUJEQm2CJ0IfQjrB9EHpge7B6IIqwnUChQMRw1GDiUPexDCEUQTKRWZFpQYYBrhG14eOSFHJEEniCnDKkMrASv3KYspOyp5KzYtqy4ZL0QuFixaKc0mrCQ2IuUf7x1aG6wYqRXmEtsQzQ4rDSALcQd+Aln94/gy9UHy7vCX8JXv+e3l6xnpYuZz5LXigOEz4Izevdyk2mTaDNtQ26/bjtvi2wbc49va3BHeEuBn4X7hHuK24n3juuSR5sjoFep56x7t8+2R72zxUvK08zT1HfZR94r5yftD/Rn+Ff5v/pj+fv/RAKEBNwLbAQMCzwHHAXABDAEzAUkAsf+Y/+r/IgCEAFMB/wHDAfEB4gL2AtIDQgUtBg0HUgliC0gMiw0cD/YQixKzFPMW3xfHGAYZQhqsG3UcNR4ZHiUewR55HoQfax/EHVkdnRvhGnwa0hhwGIsXuxVVFN8SOxF6D2IOhA27Cb4HHwibBlQEhAILAJ3+//79/d77OvnH9k72dvbp9a3zbfEH8mLxju8X7h3uwu7U7OnrVOwW7O/r+ur46rjqFet17dvrnuoj61jrjOvF62zsbu157sjsLewB7fTtI+/x707vpe4I8C3weO8c8a3yTPGI7+rv4PKp80Px3+4e77PyffMp8u7wvPDN8gXyD/LQ83vzm/Xf95P1IPSU9mf7uP2i+x79yv/+/6cCyAWxBdcG4wngCx8Olw/8EPsSLxRTFhoZRRvwGnQaKR1ZIBIhiB7PIOsi+iFxI2UhtCIRJHMgqSCtIhkjUSBgHmwdSRzrHZ0cwhuwGb8X/RafE0IWYBb8EQQO+wyGDggPsAtGBF0EgAjVB6QDxf4n/ncAEvyQ+eD7g/nZ9FD1kvX18aPwIPEw8drsW+tx6yvsLesw5/7l3eab6LbmWeLv4zXnb+Fo4PXjWOMC4bLfWuEB4crhM+GO36zh4d8b4SHljuJA4H3hJuKT5pboaOTh4mflHOzN6z/pwOk57MPvsPDo8NrzSvSs9Gr5Wftb+y/8KQBQAUIEvAacCKwGzgk+EPoPTBFdEVQUHxcIGfEXrRrQHL0cjh7ZHwgjJSNOILcfSiRuJgQnXCPdIFMm4SUzJQUl3CCGIq8jxCK3ICcfYh7oGqMcOh4AGskV5Bb+FSQUnxMaEQ8P1gvYDPMKpAhiBq0GXQNB/74DFQJV/R34ofhV+uz4B/TO9EPzFfFi8N7s0+6b7OfsB+qV5wjqeeok42jjjeeu4+7jBuQQ5LnhEOEb4tLgXuHk4vrgJeGB4SbheuJu4XfhnuR15qfk9ONc57HniuUU60/soup360TufPAi7/byrfSu8VH2Q/0l+XD2/PvzAooA7vyrAm4GuwjYCOMIrwonCysPtw6CD3oUbxF+EZAThRZjGVsXUhZFGeAcBBsuFd4cDB46FbMdeBsXGAIc7hkzGWobYRvRFyQX8hXzFTUYUBfFDygS3xQtEbUQYw8WEFwL2Aq1CucJCgj9AqMG3gdhA5wBe//h/60Cdfqm+zb7jflj/GD1UfW0+Cb5+/IF8Yz0+fSs7zLvHvIg7u3ts+9w8EztUuw170jucutD68Xss+pa7yLsOugR72XsF+1W7oPsouxf7g7yZe4U7IDxyvGW8izwx/FR9qn0F/MY9mH5cvY8+gT32Pes/jH/x/lO+gYCGgJSAQsB3AJOBGsHTAWoBUMMIwjBBbUJmRCMDkYHsg/cDk0OOBFiDpcP+xDnFDMSaQ76DdoUmxZxELIQexGwERcUEhMvEGgQMhCIEj0QIBAeEGIMqQwtDU4RYww5BnoN2wh9CEILiwQoCIEFjAXJBXf/hgL+Am0BdgIc/f37wv86/1X34/vkAD34kfQY84gB+P2b76furPYQAunyt+178Rb0a/1v65HpoP3Y80Poke4j9ZXzK/Ej64LuOvWK8uzvBuo48b/27PTa7grotfIs/An3q+oa7uz2fvSS+j/1QO+39C72gf4j+yXtPfdHBk74+fOy/JUCB/4V+Yb65AUwC3P2Nfq2C+kMU/ut/aMNiA0mBDcClQyOCzYK0QzzC7cJjwyMD2EP0Q4UDakNCxB3Fd4Q3QnHEsYRiRSSDyMH+hRuF/8Nsg/3DNAM8hVrD/QLlQt/DaYP8A/VBysFtg0aD44IpAREB5MHZgdCAmUGLwV7AQAAOwCPBtr/4/oz/439Df2n/Gr6UPxz+w75t/IY+E8Cl/a46xX5c/078xzwju9e9pP26fX38N3psvHu9+P0zOkI7dHyofEi8C7wre6c7vvvxO4W8nbuuvF87+nqUfHP9AbxzO0T80/00+0g9Gz6d/Hv7770VvlO++r4LvI89Xr9XQFo/NL4lvqD/2oEEACYAAkDGgXk/hsFgw9kCCEB7AY1DkUOmw18CrAMuAwEEpgQ6g0FFBATXBLRERMQoRVOGMoQ6hKIFucWDBOYEpMVuBU0FIMQ1BQFFnkTEA/QD2IT4xGGD2ANyQ9+DtsLDA2CDZwJkQfUCVUIaQqEB97/DwMcCS0FAv7d/y0DEP/X+ur+1f5l+7T5tPko+qP3Gvax9+j2RfK89bX0c+/Y8K3x4vHw7nLt5++i7RPuSu4t6Srp2+ph7hDssuhz6h/o1Or/60jqYeo66crrTOxo6hfr3es87MPreO8H8Tvu6O637rXz7fSY8MvzTPe09p321/iB+dP4qP3Q/xD8qv9GATsA8gO/BLoFqAWiBmYKRAqTC1gLPgwBD34PLBCsEFcRNxKFEjsRlBKrFT4WkxcKFgEUqRe/F1wXcBWOFegWnxSMFK0VkhffFokUcRNQFBsU/xL8EGYRlhEmD1YP+A4ZDv8NDA7HC8oK9golCc8GywTHBR0GvQUqAwkALgGtAcH/Mv0U/FX9ivw695v0V/bv+Gf2j/BM8evyj/JD7wHsYexH7WTr/ue86AbpUOkD51DkauWH5/zno+N34vnlk+XT4h3jKeUK5kjlU+Ue59znMujj6HroIuuS7B3sGO5w75TwF/I78yT15PX79qf7nPz8+pL9DwG4AmgDkwWlB0UIBAr5CicOOxD7Dj4R1BSTFj8WNhe7FxYZRhtCGw8c9BpQHN0etR2vHCcd2R44Hssc5B3xHR8cABvLG6UbMBqMGGAXJRlqGBAV4RP9FHAUMhJyECYP8w60DaMLRQqnCXoIrAarBUcFbQMyAqEA7v9d/1r9Cfw/+hz59fbo9Rj26/Na8efwOfA173/tF+um6jjqCujN5kHmluTw4xDjNuLe4Xfg2t/l3/7e6t7v3nHeSd5p3xTg09403xfhV+EE4sLjUuTj5Dbmnuie6XjqreuZ7TLwjfHc8tf00PZS+Xz7Avwk/8cBzgO2BdAG3AieC58OtQ8xEcQTshW6F84ZKRoKG1sdLB/xHz8gzCDdITsiOSIzI08jdiLpIRwiVyK/Idgfch7BHnwe0RwfGzUajRlOGH4WIxU2FNESKhFAEOwOGQ1rC28KywlFB5sFMQXfA80CAwFq/yj/Q/60/Af7GPp6+RX4rfbX9Xv14PNm8sDxlPCg78Xu2e2l7F3rL+rQ6fnofue65s7lXuWp5NHjXeOX4iHi6+Fr4Vvha+GV4fDhe+Ga4YfiWuPV4yfkG+We5oTnEeg36TTr1OzL7TfvE/Ep88v0ffY0+On5Pfxw/iUACwLiA/AFAAjtCeULlA1aDxURFhOzFKkVwxZQGLcZpxpOGwoc/BxyHcMdSR5GHi0eQR4WHuodkh0AHXsc6RsZG0waixm+GMkXzRa1FcMU+hMPE94RqxCvD88O+Q3nDK8LrQrSCbwIrwcEByAG3gQuBIkDeAJUAYEAv/8M/y/+LP1E/HL7sPqj+aT4kvfR9g/23/TD8/vyGPLx8OTv1O7a7f/s9+vp6jDqaelU6FfnyOZB5pbl2ORY5DDkEuS/427jYONk44/j5uNv5ObkauUg5vLmzue76Mjp4eoe7Hvt+e6G8B7yl/Mv9dn2mvh1+jD8C/7z/9gBkQNZBS8H4gifCjsM0Q2QDw4RXBLDE/gUJBZJFzQY7BirGWoa/xp2G90bMhxwHIgcgxyJHFwcBhy4G3QbDBtsGuIZWBm4GBMYZBezFs0V2hT/E/kSDRIVEQIQFQ8hDioNCAziCtMJmQhvB1oGHQX0A74CdgFMABn/2P2m/HT7Nvr2+Lz3b/YT9dnzm/JX8Qzw0O6m7XjsUOsr6hDpDugN5xTmMuVJ5ILjxeIm4q7hReHp4LTgnOB/4HHgouD34D3htOFN4vTiteOt5MPl2OYO6GTpzepC7MTtWe8V8djysvSU9nz4i/qb/Jz+ogC2AsYEwQavCKIKlQxxDjcQ9RGtE0UVuRYkGHgZoBq4G78coB1VHuoecx/0H1wglSCxILkglSBIIO4fgh8FH4Ue5x0hHUwcYBtgGmUZYxhVFzkWERXZE4ISIhHOD4IOOw34C58KMwnHB14G9QSGAygC2wCT/zv+2vyC+zf63/iE9zv26fSY80ny//DC75Huae1E7Brr/enp6Nbnwua/5dDk6+Me41jirOEe4Z/gMODQ34TfS98v3zDfS9+I3+HfSODS4HPhLuIV4xbkNeVx5sjnNOmv6kns/O3G77bxuPPK9e/3JPph/KP+8QBGA50F8Ac9CnoMrA7MENMSzRStFnwYMhrEG0Adoh7iH/0g+CHSIocjEyR1JLAkziTMJKgkaSQRJJYj9SIzIlUhXyBRHzEe/xy8G2YaBRmXFx0WmxQZE5URCxCEDgENdAvhCUsIsgYiBZYDEAKaAC3/xv1d/Pr6n/lC+O32nPVO9Afzx/GK8FDvHu747NTrr+qO6XfoaOdj5l/lX+Rv44jiruHj4Cfget/l3mXe8N2G3TXd/tzl3Ojc/dwq3Xbd3d1c3v7exd+y4MHh6eIu5JflIefL6JDqeeyG7rLw9/JW9c73XPr//KD/RgL7BK4HWQrvDHUP7xFTFKYW3xj9GgQd6x6uIEwiviMFJSgmFCfWJ3Qo6Cg2KVkpUykiKc8oWCiyJ+Ym9iXkJL0jdSILIZMfCh5xHMgaFRldF5wV3xMYEkoQgg68DPoKOgmDB9cFOgSkAhoBn/8q/sD8ZfsV+sv4jvdN9hH14POv8ovxcfBd71XuTu1J7EPrM+ol6RboCOcK5hHlJ+RC41viheGy4OvfO9+X3gTegt0O3bDcZ9w03BfcFdw43Hrc2Nxd3f/dwN6v373g6+FE48PkcuZG6D7qZ+y27ijxuPNe9hj55PvE/q4BmAR9B1QKIw3pD54SSBXaF1EarxzdHtwgqSJFJLcl9CYIKO8onykrKocqqSqgKmUq9yljKZgooieIJkgl6SNbIrUgAB82HWEbexmRF6MVqBOsEbMPtw3LC+QJCQhEBocE7AJlAez/lv5P/Rz8+frj+eX48/cS90T2gPXF9BX0Z/PC8iDyfPHy8Grwy+8k73Luv+0N7VHsluvf6jDqf+nB6PjnOOeB5tDlHuVo5MvjO+O34jrizOF+4UbhI+ER4R/hT+Gb4RHiqeJo413kd+Wz5hvopOlk617tdu+v8Qf0dfbv+HD7B/6nAEoD/gWvCFML6Q1eEL4S/hQgFzIZGBvSHF0erx/XIMohjyItI6Uj+CMPJOcjkyMRI10ifCF5IFgfEx6kHA4bZRmnF9IV7xMOEi0QVA6GDL8KDwllB84FRQTAAloBEwDx/u79Df1V/Lf7M/u5+lD6Dfrc+cb5xvnb+ff5Dvoe+iP6Pvpu+pj6ufrb+vL67frK+oL6Mfrh+Yf5HfmY+AT4Wvee9tf19PQO9ELzWPJf8WrwXO9f7nntnOzK6wTrXOrG6ULp3+iP6H7opejf6D7ptulS6izrMexU7ZnuBfCT8SjzzfSA9kj4N/ox/CD+DwDyAcMDlgVPBwIJuQpXDMkNCg8iEA4R6RGqEkcT0hMxFGAUWBQkFNQTeRMVE5QS8xEnETUQJw8HDt8MvwudCoIJdQhgB10GewWoBOUDGwNQAqUBIgHXALIApwCqAK8AwgDkACUBkwEnAsoCgwM4BOQEkQUsBtQGjwdCCAAJqAkuCqYK7goRCx4LCAvnCrQKVQrpCVYJrgjcB84GrgVgBA0DsgE0AK/+H/14++b5VPi39h/1dvPY8VnwCu/o7ejs/Osz64fqAuq46Y3pjemt6dDp7ukS6lDqxep061nsOu0m7iPvC/AD8fTx4PLg8wL1E/Ya9wb40PiV+WH6VPtW/Gr9Xf7y/kb/gv+z/xAAlgARAYgB3QHkAd0B2gEBAlMClwLXAuUC+gIjA1YDvwM9BLcEKwWVBRMGxQasB5QIbwk5CvgKyQvNDAcOZA/fECwSPhMmFPIUzRXfFgEYCBnhGWwa0RokG34byBsDHA8cvxsgG0YaWBmAGL8X2ha4FUkUlhKjEJ8Oigx1CpMIqQafBFsC/P+i/ZP7svnm9zj2avSx8ufwRO/h7aXswOv16lnq6OlY6ajo2+cI52Tmx+Uu5bLkYORI5DnkH+Ta45LjXOMg4wbj8OL24iDjauPY42nkHOXa5Y/mKeet5xjoc+ji6GPpJOpI65Xs/+1+7/DwaPLg8zf1oPYP+K35d/s+/ST/EgEMAz4FqgdZCisNtA/6EQkUJxZ4GNEaDx08H3shvSPxJeonnCk2K6Qs1i3XLoovJjCaMMQwtDBjMPEvNS8hLqsswCqnKIMmNiTaIWYfoBzAGc8WsBNUEOUMWAm6BYMClP8O/fv6CPk793T17fOJ8jfxN/Ak7zHuWO2B7ETsluwl7bbtsu0z7XjsjeuN6kLp2udW5pbk9uJm4eTfn94o3anbJtp12ODWU9Xi097S+9FG0efQzNAN0XnRo9Fo0WDRn9E40lfT5dQE15PZI9y/3ivhleM15uzoDeyH79LyM/YF+lz+mgO8CK4NixJZF5ocByI6J8Ariy/OMg02qjmUPVJBiET0RttIJkrKSmlLE0wlTMVKakiuRddCXkBTPck5DTYuMRssCyexIR8crhX3DpcIhgJZ/az48fN17wjrOedj5CjiZOAb30fe2d0C3v3e/+DB44fmj+nK7PnvVfPj9mT60/1DAT8EagYtB/MGOAbeBEkDxgGT/7/8n/ma9tXzCfEs7kXqq+Vw4aXdXdqp1+nUtdJI0d3PUM7lzIXL5sofy1rLJMuGyrLKV8uJzAXORc+b0QbVD9kE3b/fruF24znmr+oz8Nz2FP5OBcYM7xPQGqch7SdxLS8yfDUqOCc7Kj7kQSVG1kpXT2dS41NbU1dR4U43S41GZkGuO042rjCqKtkkax+2GvEVGRAuCQYBhvgR8RjrdOe15VHk7uHP3qnbCNof2x7eZ+Lu5q7qu+3L8Ev0MvkH/1EFgAvvEMEVUBntG3gdeB55H8Afbh4aGzIVeQ7eCD0EBwG8/Uz5yvN57dHmVeDj2sfW0dPO0XHQgs/Lz8bQgNFT0o3S59KF0wrTzdIG00nU9tbs2IDasNzK36/jeeaH55rnvecW6I/n9uWH5J/kJuc67J/y9voOBFMMkhIxFeMVyRZLGSMdACEUJCYneyvOMS05jEBeR41Mi08wT/hKL0TLPPk1YzAxKykmOSGdHJQYnRS+EC0MdgZe/mz0Muq+4Snd0dtc27baf9mO2ILaBt985Xns1vFR9Mfz6fEd8Tj0WfzFBhEQDBauGJsazB1gIl8lDSVdIPQWtQv4ADn5sfZ/+Gz7Tfxi+dbyQ+tS5WThnN+E3vrcltuG26LeuuXQ7yj6YAGGA+sAq/tV9671r/aq+BT69Pk2+i/9NwIzCZ8N8QxIB938UfF45+vgSN9L4aDkqegG7cnzDv24Bq4N9Q6YC+oF/QBd/7IB/QcFEVMbDyVMLUw0yjl+PYM+ITuiM9gpICBbGREVdRI9D7EKBwY0Acn8cfcg8Hnngd4J17zSLNEn0vnT4NQd1avV+dcN3WjjbOjR6lXrMOuv7KrwtPWj+5YACwRwBpoINwzsELgUZxY7FOYP+goBBr8Bfv0y+oj33fVX9cL1Tve5+Zf7+vyq/fD9CP/zAL4DowcUDNEQ/BUDGqAcTR0RHFAaFhh7FTYTOxGxEB0S9xMyFXgVXBMlD1gJRwFs+Mvwpeub6dHq0O2N8T/2YvvO/7sCgQMyAsn/Tv1v+8H7j/+4BmIQphqyI1wqZS7bLxUvpyyeKLcijRsYFPkMKAcaAtf8/Pdl843u4ume43nbbtPoy7XGasT3w/TEosZjyG7KDM1H0MjT5tYe2XTagNuY3dPgBOXM6djtlfFy9Wb5BP3H/zQB5wFWAnsCcgLjAdkATP+k/S/82/vh/Mf+sAEMBckIPQ18EeMUoRevGRUcvx45Idsj2iUqJ+0nQif5JdQkjiPrImcibyGRID0fLB06G5QYFxYwE+YOWQr1BFIA2/wk+lj4I/js+TP9KwHsAwwFXAV1BWcFagWPBZ8GqwmQDkEURhoTIAIl9CjBKosqRSlGJ6Uk6SBmG48URg3pBXf+a/cf8WLra+aW4PvZctP1zHPHz8J3v+O9Z74pwJjB6MKiw7vEIseNyTfMxc7N0ODSIdXe17PbuuDE5f7pHu0q7+3w0/KE9K71CfdP+Fn5efqU+oL6wPqg++39IwG6BD8I/wplDWMQ4hNRGHwckR+PIcMiASRjJRUnUCiHKLgn8iWhI6ohASAzH4MfKSALIUUhRSAOHt4ajRfMFGgSIRA6DSEKhgcIBmoGTwi3C70P+hJNFDIThRA9DkUN2Q1mD1cRoBPlFUMYfBrQHDUfOCHHIXAgKB1uGJoTww4nCmYFPgDU+h71qu9r6jDlWuC82y3XjdJmzVfI/cRUxOjFqsguy8nMxM0AzoPNGs11zc3Op9Ab0jDT2dTc10Tc++DS5Gjnm+gt6ZPpHeo169/s3O718CPzU/Xy99j6oP0fABgCyQO1BfsHzAr8DR4R8RNIFkIYGBooHEQeQSDlIaAiuCIRIucgoh93Hs8dzx1UHooeRx5JHUscLxzAHH0dbh31G3oZmxYhFNYSfBIJE2oTCBNTEp8R2BH4EjsU1RR7FHATIxIvEcMQpxDqEDIR+BDUEMwQBhFqEfMQLA8MDF8IrwRwAcr+6Puj+OX0cvBa7DXpIefi5U3kw+Fe3tTaNtjX1szWrteY2EDZh9nR2Xraqdvs3MDd2t043VfcG9yg3OHdX9964M/hOOP85N3meujh6evqr+tL7PjsbO5z8PbyovXL9/35OPzW/hoChgXUCKsLpg0WD0AQcBHhEqAUTxbCF+EYpBl0Gl0bchxpHfcdAh6GHY0clhvXGmgaThoiGqwZMhm/GF8YHRi3Fy0XrhY4FtIVkxU6FfcUnxRKFAoUxhNjE48SQRGxDygO7wwSDFELugokCrcJXQkJCZ8I2ge9BjQFWQM+ARz/DP0j+2/5xfch9pv0MPPa8Uvwie6X7KHq/uh85yXmKOV+5CzkPOQ45CrkBOS944LjPeP/4sTij+J84qbiI+Mj5Hnl5+YV6MHoEOlE6ZjpJur46h/sju1G7wPxlvIp9KH1LPfD+Dr6ovsI/Wr+///hAREEfAbfCA0L2wxCDkMP6A9lEPEQjxFOEhoT3RO7FKkVghY+F68XyxeuF1cX3BZfFusVnxV3FVQVJhW3FCQUlBMKE7ISYhIBEqYRPBHMEFoQ6A9vD+0OQw5/Da4M0wsHCx4KQAl+CMcHHAdNBmEFcASEA6oC0wEIAUgAeP+P/oj9gvyi+9r6APrz+LD3ZPYz9Sb0M/NX8pjx7/BN8Jnv0u4h7pztN+3u7KHsPuzu65jrUutB607rg+vB6+brD+xm7PHssO2E7kPv+O+K8PfwTPGS8f3xjfJD8yH0FfUg9iv3I/gW+TL6avux/N79zf64/6QApQG1ArgDvgTKBcAGlQdNCPcIyAm3CqkLfQwjDbsNVw4BD5MP7Q8YECAQJBAlEBUQ8w/PD64Pig9lDyUP0g5zDgAOlA1ADf0MvQxyDAYMhwsEC3QK7Al1CQUJkwgRCGwHuwYVBnEF5QRhBNMDPAOQAtwBRQHVAG0ADQCY/xL/kv75/VL9mPzT+wb7OPp5+cf4PfjE90r31/Z09ij2APbo9cH1lPVR9QP1vfR39D30G/Qi9GP0z/Q29Xf1lfWt9fH1XfbY9kL3jffA9/H3N/iK+PT4Zfnj+Xn6Ffut+yr8oPwU/Z/9M/69/lL/2v9jAOIASgGvARMCbAK7AggDWAPDAywEhwTnBDoFjwXHBdIF1QXXBd8F4QXJBaQFjwWLBY8FkgWMBYcFfwVqBTgF6gSKBCgE3QOjA3oDVwMlA9wCeAIRArMBegFdAVYBVAFCAf0AiwAXAKH/bv9I/x3/Bv/3/tD+rf5w/mH+c/6d/qD+T/4=\" type=\"audio/wav\" />\n                    Your browser does not support the audio element.\n                </audio>\n              "
     },
     "metadata": {}
    }
   ],
   "source": [
    "sentence =  \"My prior seems not be in the best shape possible.\"\n",
    "reference_path = '/home/big-boy/Data/blizzard2013/segmented/refs/refs_seen/BLZ000068.wav'\n",
    "style_path = '/home/big-boy/Data/blizzard2013/segmented/refs/unseen/usref-05.wav'\n",
    "align, spec, stop_tokens, wav = tts(model, sentence, TTS_CONFIG, use_cuda, ap, use_gl=True, figures=True, reference_wav=reference_path, style_wav=None)\n",
    "\n",
    "ap.save_wav(wav, 'yolo.wav')"
   ]
  },
  {
   "cell_type": "code",
   "execution_count": null,
   "metadata": {},
   "outputs": [],
   "source": []
  }
 ],
 "metadata": {
  "accelerator": "GPU",
  "colab": {
   "collapsed_sections": [],
   "name": "DDC-TTS_and_MultiBand-MelGAN_Example.ipynb",
   "provenance": [],
   "toc_visible": true
  },
  "kernelspec": {
   "name": "python380jvsc74a57bd004ae8f06ef2069926318fb21ef951f475c5c242dceb49e7faf78b2393ada81ce",
   "display_name": "Python 3.8.0 64-bit ('PyCapacitron': conda)"
  },
  "language_info": {
   "codemirror_mode": {
    "name": "ipython",
    "version": 3
   },
   "file_extension": ".py",
   "mimetype": "text/x-python",
   "name": "python",
   "nbconvert_exporter": "python",
   "pygments_lexer": "ipython3",
   "version": "3.8.0"
  }
 },
 "nbformat": 4,
 "nbformat_minor": 4
}